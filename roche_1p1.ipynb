{
 "cells": [
  {
   "cell_type": "code",
   "execution_count": 1,
   "metadata": {},
   "outputs": [
    {
     "data": {
      "text/html": [
       "\n",
       "            <div>\n",
       "                <p><b>SparkSession - in-memory</b></p>\n",
       "                \n",
       "        <div>\n",
       "            <p><b>SparkContext</b></p>\n",
       "\n",
       "            <p><a href=\"http://ROG-ZEPHYRUS:4042\">Spark UI</a></p>\n",
       "\n",
       "            <dl>\n",
       "              <dt>Version</dt>\n",
       "                <dd><code>v3.5.0</code></dd>\n",
       "              <dt>Master</dt>\n",
       "                <dd><code>local[*]</code></dd>\n",
       "              <dt>AppName</dt>\n",
       "                <dd><code>roche_1p1</code></dd>\n",
       "            </dl>\n",
       "        </div>\n",
       "        \n",
       "            </div>\n",
       "        "
      ],
      "text/plain": [
       "<pyspark.sql.session.SparkSession at 0x25391f191f0>"
      ]
     },
     "execution_count": 1,
     "metadata": {},
     "output_type": "execute_result"
    }
   ],
   "source": [
    "import pyspark\n",
    "import pandas as pd\n",
    "from pyspark.sql import SparkSession\n",
    "from pyspark.sql.functions import *\n",
    "\n",
    "spark=SparkSession.builder.appName('roche_1p1').getOrCreate()\n",
    "spark"
   ]
  },
  {
   "cell_type": "markdown",
   "metadata": {},
   "source": [
    "CMS Part-B Data\n",
    "---"
   ]
  },
  {
   "cell_type": "code",
   "execution_count": 2,
   "metadata": {},
   "outputs": [
    {
     "name": "stdout",
     "output_type": "stream",
     "text": [
      "+----------+--------------------------+-----------------------+---------------+--------------------+-----------------+-------------------+--------------------+----------------+-----------------+-------------------------+-----------------------+-----------------+-----------------+----------------------+------------------+-----------------+-----------------------------+--------+--------------------+--------------+-------------+---------+---------+------------------+--------------+------------------+-----------------+------------------+\n",
      "|Rndrng_NPI|Rndrng_Prvdr_Last_Org_Name|Rndrng_Prvdr_First_Name|Rndrng_Prvdr_MI|Rndrng_Prvdr_Crdntls|Rndrng_Prvdr_Gndr|Rndrng_Prvdr_Ent_Cd|    Rndrng_Prvdr_St1|Rndrng_Prvdr_St2|Rndrng_Prvdr_City|Rndrng_Prvdr_State_Abrvtn|Rndrng_Prvdr_State_FIPS|Rndrng_Prvdr_Zip5|Rndrng_Prvdr_RUCA|Rndrng_Prvdr_RUCA_Desc|Rndrng_Prvdr_Cntry|Rndrng_Prvdr_Type|Rndrng_Prvdr_Mdcr_Prtcptg_Ind|HCPCS_Cd|          HCPCS_Desc|HCPCS_Drug_Ind|Place_Of_Srvc|Tot_Benes|Tot_Srvcs|Tot_Bene_Day_Srvcs|Avg_Sbmtd_Chrg|Avg_Mdcr_Alowd_Amt|Avg_Mdcr_Pymt_Amt|Avg_Mdcr_Stdzd_Amt|\n",
      "+----------+--------------------------+-----------------------+---------------+--------------------+-----------------+-------------------+--------------------+----------------+-----------------+-------------------------+-----------------------+-----------------+-----------------+----------------------+------------------+-----------------+-----------------------------+--------+--------------------+--------------+-------------+---------+---------+------------------+--------------+------------------+-----------------+------------------+\n",
      "|1003000126|                 Enkeshafi|                Ardalan|           NULL|                M.D.|                M|                  I|6410 Rockledge Dr...|            NULL|         Bethesda|                       MD|                     24|            20817|              1.0|  Metropolitan area...|                US|Internal Medicine|                            Y|   99213|Established patie...|             N|            O|      116|    191.0|               191|         125.0|      107.53287958|     83.908219895|      70.375863874|\n",
      "|1003000126|                 Enkeshafi|                Ardalan|           NULL|                M.D.|                M|                  I|6410 Rockledge Dr...|            NULL|         Bethesda|                       MD|                     24|            20817|              1.0|  Metropolitan area...|                US|Internal Medicine|                            Y|   99214|Established patie...|             N|            O|       40|     47.0|                47|  173.82978723|      152.07595745|      118.5706383|      99.791489362|\n",
      "|1003000126|                 Enkeshafi|                Ardalan|           NULL|                M.D.|                M|                  I|6410 Rockledge Dr...|            NULL|         Bethesda|                       MD|                     24|            20817|              1.0|  Metropolitan area...|                US|Internal Medicine|                            Y|   99217|Hospital observat...|             N|            F|       38|     39.0|                39|  257.62051282|      75.891282051|     61.066923077|      56.983076923|\n",
      "|1003000126|                 Enkeshafi|                Ardalan|           NULL|                M.D.|                M|                  I|6410 Rockledge Dr...|            NULL|         Bethesda|                       MD|                     24|            20817|              1.0|  Metropolitan area...|                US|Internal Medicine|                            Y|   99220|Hospital observat...|             N|            F|       21|     21.0|                21|  1192.6561905|      187.14619048|     141.44285714|      134.37857143|\n",
      "|1003000126|                 Enkeshafi|                Ardalan|           NULL|                M.D.|                M|                  I|6410 Rockledge Dr...|            NULL|         Bethesda|                       MD|                     24|            20817|              1.0|  Metropolitan area...|                US|Internal Medicine|                            Y|   99222|Initial hospital ...|             N|            F|       12|     12.0|                12|  319.66666667|      143.02916667|     105.70083333|            97.825|\n",
      "|1003000126|                 Enkeshafi|                Ardalan|           NULL|                M.D.|                M|                  I|6410 Rockledge Dr...|            NULL|         Bethesda|                       MD|                     24|            20817|              1.0|  Metropolitan area...|                US|Internal Medicine|                            Y|   99223|Initial hospital ...|             N|            F|       18|     18.0|                18|  1093.8205556|      207.28333333|     170.38888889|      161.38222222|\n",
      "|1003000126|                 Enkeshafi|                Ardalan|           NULL|                M.D.|                M|                  I|6410 Rockledge Dr...|            NULL|         Bethesda|                       MD|                     24|            20817|              1.0|  Metropolitan area...|                US|Internal Medicine|                            Y|   99226|Subsequent observ...|             N|            F|       16|     16.0|                16|       409.875|           111.575|        84.338125|          75.94875|\n",
      "|1003000126|                 Enkeshafi|                Ardalan|           NULL|                M.D.|                M|                  I|6410 Rockledge Dr...|            NULL|         Bethesda|                       MD|                     24|            20817|              1.0|  Metropolitan area...|                US|Internal Medicine|                            Y|   99231|Subsequent hospit...|             N|            F|       17|     29.0|                29|   84.75862069|       38.94862069|     31.255862069|      30.090689655|\n",
      "|1003000126|                 Enkeshafi|                Ardalan|           NULL|                M.D.|                M|                  I|6410 Rockledge Dr...|            NULL|         Bethesda|                       MD|                     24|            20817|              1.0|  Metropolitan area...|                US|Internal Medicine|                            Y|   99232|Subsequent hospit...|             N|            F|      124|    204.0|               204|  164.45098039|      73.325882353|     58.462107843|       56.19504902|\n",
      "|1003000126|                 Enkeshafi|                Ardalan|           NULL|                M.D.|                M|                  I|6410 Rockledge Dr...|            NULL|         Bethesda|                       MD|                     24|            20817|              1.0|  Metropolitan area...|                US|Internal Medicine|                            Y|   99233|Subsequent hospit...|             N|            F|      206|    336.0|               336|  286.85416667|      106.59717262|     84.875327381|      80.373720238|\n",
      "+----------+--------------------------+-----------------------+---------------+--------------------+-----------------+-------------------+--------------------+----------------+-----------------+-------------------------+-----------------------+-----------------+-----------------+----------------------+------------------+-----------------+-----------------------------+--------+--------------------+--------------+-------------+---------+---------+------------------+--------------+------------------+-----------------+------------------+\n",
      "only showing top 10 rows\n",
      "\n"
     ]
    }
   ],
   "source": [
    "cms_b=spark.read.csv('Dataset/cms_b.csv',header=True,inferSchema=True)\n",
    "cms_b_brand_names=spark.read.csv('Dataset/cms_b_unique_hcpcs.csv',header=True,inferSchema=True)\n",
    "cms_b.show(10)"
   ]
  },
  {
   "cell_type": "code",
   "execution_count": 3,
   "metadata": {},
   "outputs": [
    {
     "name": "stdout",
     "output_type": "stream",
     "text": [
      "Shape of DataFrame: (9886177, 29)\n"
     ]
    }
   ],
   "source": [
    "print(\"Shape of DataFrame:\", (cms_b.count(), len(cms_b.columns)))"
   ]
  },
  {
   "cell_type": "code",
   "execution_count": 4,
   "metadata": {},
   "outputs": [
    {
     "name": "stdout",
     "output_type": "stream",
     "text": [
      "+--------+--------------------+---------+\n",
      "|HCPCS_Cd|          HCPCS_Desc|    BRAND|\n",
      "+--------+--------------------+---------+\n",
      "|   J3380|injection, vedoli...|  ENTYVIO|\n",
      "|   Q5121|injection, inflix...|   AVSOLA|\n",
      "|   J1745|injection, inflix...| REMICADE|\n",
      "|   J1602|injection, golimu...|  SIMPONI|\n",
      "|   J3357|ustekinumab, for ...|  STELARA|\n",
      "|   J0717|injection, certol...|   CIMZIA|\n",
      "|   Q5103|injection, inflix...|INFLECTRA|\n",
      "|   Q5104|injection, inflix...|RENFLEXIS|\n",
      "|   J3358|ustekinumab, for ...|  STELARA|\n",
      "+--------+--------------------+---------+\n",
      "\n"
     ]
    }
   ],
   "source": [
    "cms_b_brand_names.show()"
   ]
  },
  {
   "cell_type": "markdown",
   "metadata": {},
   "source": [
    "Joining CMS-B dataset with CMS_B_Brand_name Dataset\n",
    "---"
   ]
  },
  {
   "cell_type": "code",
   "execution_count": 5,
   "metadata": {},
   "outputs": [
    {
     "name": "stdout",
     "output_type": "stream",
     "text": [
      "+--------+----------+--------------------------+-----------------------+---------------+--------------------+-----------------+-------------------+--------------------+--------------------+-----------------+-------------------------+-----------------------+-----------------+-----------------+----------------------+------------------+--------------------+-----------------------------+--------------------+--------------+-------------+---------+---------+------------------+--------------+------------------+-----------------+------------------+--------------------+---------+\n",
      "|HCPCS_Cd|Rndrng_NPI|Rndrng_Prvdr_Last_Org_Name|Rndrng_Prvdr_First_Name|Rndrng_Prvdr_MI|Rndrng_Prvdr_Crdntls|Rndrng_Prvdr_Gndr|Rndrng_Prvdr_Ent_Cd|    Rndrng_Prvdr_St1|    Rndrng_Prvdr_St2|Rndrng_Prvdr_City|Rndrng_Prvdr_State_Abrvtn|Rndrng_Prvdr_State_FIPS|Rndrng_Prvdr_Zip5|Rndrng_Prvdr_RUCA|Rndrng_Prvdr_RUCA_Desc|Rndrng_Prvdr_Cntry|   Rndrng_Prvdr_Type|Rndrng_Prvdr_Mdcr_Prtcptg_Ind|          HCPCS_Desc|HCPCS_Drug_Ind|Place_Of_Srvc|Tot_Benes|Tot_Srvcs|Tot_Bene_Day_Srvcs|Avg_Sbmtd_Chrg|Avg_Mdcr_Alowd_Amt|Avg_Mdcr_Pymt_Amt|Avg_Mdcr_Stdzd_Amt|          HCPCS_Desc|    BRAND|\n",
      "+--------+----------+--------------------------+-----------------------+---------------+--------------------+-----------------+-------------------+--------------------+--------------------+-----------------+-------------------------+-----------------------+-----------------+-----------------+----------------------+------------------+--------------------+-----------------------------+--------------------+--------------+-------------+---------+---------+------------------+--------------+------------------+-----------------+------------------+--------------------+---------+\n",
      "|   J1602|1003002312|                   Hopkins|               Patricia|              T|                M.D.|                F|                  I|500 Congress St S...|                NULL|           Quincy|                       MA|                     25|            02169|              1.0|  Metropolitan area...|                US|        Rheumatology|                            Y|Injection, golimu...|             Y|            O|       16|  15700.0|                86|          45.0|      17.204414013|     13.753453503|      13.478383439|injection, golimu...|  SIMPONI|\n",
      "|   J1745|1003002312|                   Hopkins|               Patricia|              T|                M.D.|                F|                  I|500 Congress St S...|                NULL|           Quincy|                       MA|                     25|            02169|              1.0|  Metropolitan area...|                US|        Rheumatology|                            Y|Injection, inflix...|             Y|            O|       14|   3780.0|                83|         150.0|      41.991280423|     33.593013228|      32.921142857|injection, inflix...| REMICADE|\n",
      "|   J1745|1003071598|                   Muntean|                Rebecca|              R|                M.D.|                F|                  I|  820 S Mcclellan St|           Suite 200|          Spokane|                       WA|                     53|            99204|              1.0|  Metropolitan area...|                US|        Rheumatology|                            Y|Injection, inflix...|             Y|            O|       12|   2564.0|                44|         123.0|      41.785928237|     33.253810452|      32.588732449|injection, inflix...| REMICADE|\n",
      "|   J1745|1003078973|                   Trivedi|                 Chirag|              D|                D.O.|                M|                  I|13640 N 99th Ave ...|           Suite C-3|         Sun City|                       AZ|                     04|            85351|              1.0|  Metropolitan area...|                US|    Gastroenterology|                            Y|Injection, inflix...|             Y|            O|       13|   1490.0|                28|         150.0|       42.02757047|     33.363610738|       32.69633557|injection, inflix...| REMICADE|\n",
      "|   J3380|1003078973|                   Trivedi|                 Chirag|              D|                D.O.|                M|                  I|13640 N 99th Ave ...|           Suite C-3|         Sun City|                       AZ|                     04|            85351|              1.0|  Metropolitan area...|                US|    Gastroenterology|                            Y|Injection, vedoli...|             Y|            O|       12|  11101.0|                38|          51.0|      20.791233222|      16.58618683|      16.254463562|injection, vedoli...|  ENTYVIO|\n",
      "|   J1602|1003109075|              Virupannavar|                 Shanti|           NULL|                D.O.|                F|                  I|      138 Service Rd|A225 Clinical Center|     East Lansing|                       MI|                     26|            48824|              1.0|  Metropolitan area...|                US|        Rheumatology|                            Y|Injection, golimu...|             Y|            O|       22|   9050.0|                48|          30.0|      15.079674033|      12.10521768|      14.061083978|injection, golimu...|  SIMPONI|\n",
      "|   Q5103|1003158684|                  Safaeian|                  Pegah|           NULL|                D.O.|                F|                  I|        1100 9th Ave|                NULL|          Seattle|                       WA|                     53|            98101|              1.0|  Metropolitan area...|                US|Physical Medicine...|                            Y|Injection, inflix...|             Y|            O|       14|   1490.0|                26|  161.36369128|      41.709469799|     33.254684564|      32.589597315|injection, inflix...|INFLECTRA|\n",
      "|   J1745|1003255365|                    Krease|                Michael|              P|                D.O.|                M|                  I|1169 Eastern Pkwy...|                NULL|       Louisville|                       KY|                     21|            40217|              1.0|  Metropolitan area...|                US|    Gastroenterology|                            Y|Injection, inflix...|             Y|            O|       12|   1210.0|                20|         118.0|      34.069884298|     27.293975207|      34.500413223|injection, inflix...| REMICADE|\n",
      "|   J1745|1003369109|                    Wilson|               Tiffinie|           NULL|               FNP-C|                F|                  I| 360 E Eh Crump Blvd|                NULL|          Memphis|                       TN|                     47|            38126|              1.0|  Metropolitan area...|                US|  Nurse Practitioner|                            Y|Injection, inflix...|             Y|            O|       20|   2250.0|                51|        172.04|      42.551351111|     33.783026667|          33.10736|injection, inflix...| REMICADE|\n",
      "|   J3380|1003806043|                    Harlan|                William|              R|                M.D.|                M|                  I|    191 Biltmore Ave|                NULL|        Asheville|                       NC|                     37|            28801|              1.0|  Metropolitan area...|                US|    Gastroenterology|                            Y|Injection, vedoli...|             Y|            O|       11|   3900.0|                13|          33.0|      20.765076923|     16.612061538|      16.279815385|injection, vedoli...|  ENTYVIO|\n",
      "|   J0717|1003816281|                     Greer|               Jonathan|              M|                M.D.|                M|                  I|6056 Boynton Beac...|                NULL|    Boynton Beach|                       FL|                     12|            33437|              1.0|  Metropolitan area...|                US|        Rheumatology|                            Y|Injection, certol...|             Y|            O|       24|  24803.0|                68|  13.498368343|      7.0575748901|     5.6324932468|      5.5198415514|injection, certol...|   CIMZIA|\n",
      "|   J1602|1003816281|                     Greer|               Jonathan|              M|                M.D.|                M|                  I|6056 Boynton Beac...|                NULL|    Boynton Beach|                       FL|                     12|            33437|              1.0|  Metropolitan area...|                US|        Rheumatology|                            Y|Injection, golimu...|             Y|            O|       37|  19801.0|               106|  34.998232918|      17.285263876|     13.818768244|      13.542391798|injection, golimu...|  SIMPONI|\n",
      "|   J1745|1003816281|                     Greer|               Jonathan|              M|                M.D.|                M|                  I|6056 Boynton Beac...|                NULL|    Boynton Beach|                       FL|                     12|            33437|              1.0|  Metropolitan area...|                US|        Rheumatology|                            Y|Injection, inflix...|             Y|            O|       24|   3962.0|                72|  56.971231701|      41.832927814|     33.316105502|      32.649775366|injection, inflix...| REMICADE|\n",
      "|   J1602|1003824442|                    Loomer|                Jeffrey|              B|                  MD|                M|                  I|2001 W Orange Gro...|                NULL|           Tucson|                       AZ|                     04|            85704|              1.0|  Metropolitan area...|                US|        Rheumatology|                            Y|Injection, golimu...|             Y|            O|       15|   9299.0|                54|          50.0|      17.262886332|     13.905222067|      13.627114744|injection, golimu...|  SIMPONI|\n",
      "|   J1745|1003848102|                   Sheehan|                   Sean|              J|                M.D.|                M|                  I| 1375 Washington Ave|           Suite 101|           Albany|                       NY|                     36|            12206|              1.0|  Metropolitan area...|                US|    Gastroenterology|                            Y|Injection, inflix...|             Y|            O|       14|   1510.0|                23|         150.0|      42.506662252|     33.957556291|      33.278397351|injection, inflix...| REMICADE|\n",
      "|   J3380|1003848102|                   Sheehan|                   Sean|              J|                M.D.|                M|                  I| 1375 Washington Ave|           Suite 101|           Albany|                       NY|                     36|            12206|              1.0|  Metropolitan area...|                US|    Gastroenterology|                            Y|Injection, vedoli...|             Y|            O|       17|   7800.0|                26|          25.0|      20.933384615|     16.746707692|      16.449925641|injection, vedoli...|  ENTYVIO|\n",
      "|   J0717|1003865353|                     Stone|                  Kerry|              B|                  MD|                F|                  I|170 W. Germantown...|Norriton Office C...|    East Norriton|                       PA|                     42|            19401|              1.0|  Metropolitan area...|                US|        Rheumatology|                            Y|Injection, certol...|             Y|            O|       41| 124000.0|               314|          10.0|      7.1327306452|     5.6973104839|      5.5853048387|injection, certol...|   CIMZIA|\n",
      "|   J1602|1003865353|                     Stone|                  Kerry|              B|                  MD|                F|                  I|170 W. Germantown...|Norriton Office C...|    East Norriton|                       PA|                     42|            19401|              1.0|  Metropolitan area...|                US|        Rheumatology|                            Y|Injection, golimu...|             Y|            O|       15|   7500.0|                43|  37.693333333|         17.209472|     13.690870667|          13.42244|injection, golimu...|  SIMPONI|\n",
      "|   J1745|1003865353|                     Stone|                  Kerry|              B|                  MD|                F|                  I|170 W. Germantown...|Norriton Office C...|    East Norriton|                       PA|                     42|            19401|              1.0|  Metropolitan area...|                US|        Rheumatology|                            Y|Injection, inflix...|             Y|            O|       44|  10980.0|               214|  102.77322404|      41.383071038|     32.942262295|      32.478026412|injection, inflix...| REMICADE|\n",
      "|   J0717|1003868993|                     Joshi|                  Vipul|              M|                  MD|                M|                  I|  1355 Providence Rd|                NULL|          Brandon|                       FL|                     12|            33511|              1.0|  Metropolitan area...|                US|        Rheumatology|                            Y|Injection, certol...|             Y|            O|       88| 300000.0|               750|          17.0|          7.237508|        5.7837085|      5.6680332333|injection, certol...|   CIMZIA|\n",
      "+--------+----------+--------------------------+-----------------------+---------------+--------------------+-----------------+-------------------+--------------------+--------------------+-----------------+-------------------------+-----------------------+-----------------+-----------------+----------------------+------------------+--------------------+-----------------------------+--------------------+--------------+-------------+---------+---------+------------------+--------------+------------------+-----------------+------------------+--------------------+---------+\n",
      "only showing top 20 rows\n",
      "\n"
     ]
    }
   ],
   "source": [
    "partialcms_b=cms_b.join(cms_b_brand_names,'HCPCS_Cd','inner')\n",
    "partialcms_b.show()"
   ]
  },
  {
   "cell_type": "code",
   "execution_count": 6,
   "metadata": {},
   "outputs": [
    {
     "name": "stdout",
     "output_type": "stream",
     "text": [
      "Shape of Data: (3598, 31)\n"
     ]
    }
   ],
   "source": [
    "print(\"Shape of Data:\",(partialcms_b.count(),len(partialcms_b.columns)))"
   ]
  },
  {
   "cell_type": "markdown",
   "metadata": {},
   "source": [
    "Joining CMS-B Dataset with Speciality Mapping Data\n",
    "---"
   ]
  },
  {
   "cell_type": "code",
   "execution_count": 7,
   "metadata": {},
   "outputs": [
    {
     "name": "stdout",
     "output_type": "stream",
     "text": [
      "+--------+----------+--------------------------+-----------------------+---------------+--------------------+-----------------+-------------------+--------------------+----------------+-----------------+-------------------------+-----------------------+-----------------+-----------------+----------------------+------------------+-----------------+-----------------------------+--------------------+--------------+-------------+---------+---------+------------------+--------------+------------------+-----------------+------------------+--------------------+--------+----------+----------------+\n",
      "|HCPCS_Cd|Rndrng_NPI|Rndrng_Prvdr_Last_Org_Name|Rndrng_Prvdr_First_Name|Rndrng_Prvdr_MI|Rndrng_Prvdr_Crdntls|Rndrng_Prvdr_Gndr|Rndrng_Prvdr_Ent_Cd|    Rndrng_Prvdr_St1|Rndrng_Prvdr_St2|Rndrng_Prvdr_City|Rndrng_Prvdr_State_Abrvtn|Rndrng_Prvdr_State_FIPS|Rndrng_Prvdr_Zip5|Rndrng_Prvdr_RUCA|Rndrng_Prvdr_RUCA_Desc|Rndrng_Prvdr_Cntry|Rndrng_Prvdr_Type|Rndrng_Prvdr_Mdcr_Prtcptg_Ind|          HCPCS_Desc|HCPCS_Drug_Ind|Place_Of_Srvc|Tot_Benes|Tot_Srvcs|Tot_Bene_Day_Srvcs|Avg_Sbmtd_Chrg|Avg_Mdcr_Alowd_Amt|Avg_Mdcr_Pymt_Amt|Avg_Mdcr_Stdzd_Amt|          HCPCS_Desc|   BRAND|       NPI|      Speciality|\n",
      "+--------+----------+--------------------------+-----------------------+---------------+--------------------+-----------------+-------------------+--------------------+----------------+-----------------+-------------------------+-----------------------+-----------------+-----------------+----------------------+------------------+-----------------+-----------------------------+--------------------+--------------+-------------+---------+---------+------------------+--------------+------------------+-----------------+------------------+--------------------+--------+----------+----------------+\n",
      "|   J1745|1003078973|                   Trivedi|                 Chirag|              D|                D.O.|                M|                  I|13640 N 99th Ave ...|       Suite C-3|         Sun City|                       AZ|                     04|            85351|              1.0|  Metropolitan area...|                US| Gastroenterology|                            Y|Injection, inflix...|             Y|            O|       13|   1490.0|                28|         150.0|       42.02757047|     33.363610738|       32.69633557|injection, inflix...|REMICADE|1003078973|Gastroenterology|\n",
      "|   J3380|1003078973|                   Trivedi|                 Chirag|              D|                D.O.|                M|                  I|13640 N 99th Ave ...|       Suite C-3|         Sun City|                       AZ|                     04|            85351|              1.0|  Metropolitan area...|                US| Gastroenterology|                            Y|Injection, vedoli...|             Y|            O|       12|  11101.0|                38|          51.0|      20.791233222|      16.58618683|      16.254463562|injection, vedoli...| ENTYVIO|1003078973|Gastroenterology|\n",
      "|   J1745|1003255365|                    Krease|                Michael|              P|                D.O.|                M|                  I|1169 Eastern Pkwy...|            NULL|       Louisville|                       KY|                     21|            40217|              1.0|  Metropolitan area...|                US| Gastroenterology|                            Y|Injection, inflix...|             Y|            O|       12|   1210.0|                20|         118.0|      34.069884298|     27.293975207|      34.500413223|injection, inflix...|REMICADE|1003255365|Gastroenterology|\n",
      "|   J3380|1003806043|                    Harlan|                William|              R|                M.D.|                M|                  I|    191 Biltmore Ave|            NULL|        Asheville|                       NC|                     37|            28801|              1.0|  Metropolitan area...|                US| Gastroenterology|                            Y|Injection, vedoli...|             Y|            O|       11|   3900.0|                13|          33.0|      20.765076923|     16.612061538|      16.279815385|injection, vedoli...| ENTYVIO|1003806043|Gastroenterology|\n",
      "|   J1745|1003848102|                   Sheehan|                   Sean|              J|                M.D.|                M|                  I| 1375 Washington Ave|       Suite 101|           Albany|                       NY|                     36|            12206|              1.0|  Metropolitan area...|                US| Gastroenterology|                            Y|Injection, inflix...|             Y|            O|       14|   1510.0|                23|         150.0|      42.506662252|     33.957556291|      33.278397351|injection, inflix...|REMICADE|1003848102|Gastroenterology|\n",
      "|   J3380|1003848102|                   Sheehan|                   Sean|              J|                M.D.|                M|                  I| 1375 Washington Ave|       Suite 101|           Albany|                       NY|                     36|            12206|              1.0|  Metropolitan area...|                US| Gastroenterology|                            Y|Injection, vedoli...|             Y|            O|       17|   7800.0|                26|          25.0|      20.933384615|     16.746707692|      16.449925641|injection, vedoli...| ENTYVIO|1003848102|Gastroenterology|\n",
      "|   J1745|1003961236|                 Khazanchi|                   Arun|              P|                M.D.|                M|                  I| 11505 Palmbrush Trl|       Suite 200|   Lakewood Ranch|                       FL|                     12|            34202|              1.0|  Metropolitan area...|                US| Gastroenterology|                            Y|Injection, inflix...|             Y|            O|       20|   3840.0|                71|  98.088541667|      42.124278646|     33.468664063|      32.807864583|injection, inflix...|REMICADE|1003961236|Gastroenterology|\n",
      "|   J1745|1013022680|                  Fillmore|               Geoffrey|              A|                D.O.|                M|                  I|     10210 E 91st St|            NULL|            Tulsa|                       OK|                     40|            74133|              1.0|  Metropolitan area...|                US| Gastroenterology|                            Y|Injection, inflix...|             Y|            O|       19|   1230.0|                26|         200.0|      41.923626016|     33.538894309|      32.868113821|injection, inflix...|REMICADE|1013022680|Gastroenterology|\n",
      "|   J3380|1013147206|                    Bownik|                Hillary|              L|                 M.D|                F|                  I|4321 Washington S...|            NULL|      Kansas City|                       MO|                     29|            64111|              1.0|  Metropolitan area...|                US| Gastroenterology|                            Y|Injection, vedoli...|             Y|            O|       16|  40500.0|               135|          34.0|      20.857733333|     16.655876543|      16.322757778|injection, vedoli...| ENTYVIO|1013147206|Gastroenterology|\n",
      "|   J1745|1013194414|                    Scheer|                   Marc|              A|                 D.O|                M|                  I|8901 Indian Hills Dr|       Suite 200|            Omaha|                       NE|                     31|            68114|              1.0|  Metropolitan area...|                US| Gastroenterology|                            Y|Injection, inflix...|             Y|            O|       31|   3000.0|                44|         140.0|          42.31396|     33.621186667|      32.948766667|injection, inflix...|REMICADE|1013194414|Gastroenterology|\n",
      "|   J3380|1013194414|                    Scheer|                   Marc|              A|                 D.O|                M|                  I|8901 Indian Hills Dr|       Suite 200|            Omaha|                       NE|                     31|            68114|              1.0|  Metropolitan area...|                US| Gastroenterology|                            Y|Injection, vedoli...|             Y|            O|       31|  12000.0|                40|          38.0|           20.8241|         16.61868|      16.286304167|injection, vedoli...| ENTYVIO|1013194414|Gastroenterology|\n",
      "|   J3380|1013980440|                      Chen|                 Zongyu|              J|                  MD|                M|                  I| 9145 Springbrook Dr|            #200|      Coon Rapids|                       MN|                     27|            55433|              1.0|  Metropolitan area...|                US| Gastroenterology|                            Y|Injection, vedoli...|             Y|            O|       13|   5100.0|                17|          32.0|      20.684294118|     16.440268627|      16.131490196|injection, vedoli...| ENTYVIO|1013980440|Gastroenterology|\n",
      "|   J1745|1013990076|                    Phelan|                   Neil|              P|                M.D.|                M|                  I|2550 University A...| Suite 423 South|          St Paul|                       MN|                     27|            55114|              1.0|  Metropolitan area...|                US|Internal Medicine|                            Y|Injection, inflix...|             Y|            O|       15|   1110.0|                16|         100.0|      42.043297297|     33.488324324|      32.818585586|injection, inflix...|REMICADE|1013990076|Gastroenterology|\n",
      "|   J1745|1023055340|                 Rodriguez|               Reynaldo|           NULL|                  DO|                M|                  I|3601 Springhill B...|            NULL|           Mobile|                       AL|                     01|            36608|              1.0|  Metropolitan area...|                US| Gastroenterology|                            Y|Injection, inflix...|             Y|            O|       14|   1180.0|                17|          96.0|            43.327|     34.661618644|      33.968381356|injection, inflix...|REMICADE|1023055340|Gastroenterology|\n",
      "|   J3380|1023060480|                      Fink|                  Scott|              A|                  MD|                M|                  I| 100 E Lancaster Ave|       Suite 252|        Wynnewood|                       PA|                     42|            19096|              1.0|  Metropolitan area...|                US| Gastroenterology|                            Y|Injection, vedoli...|             Y|            O|       12|   6000.0|                20|          35.0|      19.835383333|     15.842906667|         16.551015|injection, vedoli...| ENTYVIO|1023060480|Gastroenterology|\n",
      "|   J3380|1033372727|                     Clark|                 Robert|              E|                  MD|                M|                  I|   1302 Franklin Ave|      Suite 4800|           Normal|                       IL|                     17|            61761|              1.0|  Metropolitan area...|                US| Gastroenterology|                            Y|Injection, vedoli...|             Y|            O|       11|   9600.0|                32|          30.0|      20.169376042|     16.404459375|      16.658336458|injection, vedoli...| ENTYVIO|1033372727|Gastroenterology|\n",
      "|   J1745|1043264336|                Crittenden|                Jeffrey|              J|                  MD|                M|                  I|  480 Honeysuckle Rd|            NULL|           Dothan|                       AL|                     01|            36305|              1.0|  Metropolitan area...|                US| Gastroenterology|                            Y|Injection, inflix...|             Y|            O|       23|   1980.0|                31|          96.0|      41.280323232|     33.000237374|      32.839151515|injection, inflix...|REMICADE|1043264336|Gastroenterology|\n",
      "|   J3380|1043264336|                Crittenden|                Jeffrey|              J|                  MD|                M|                  I|  480 Honeysuckle Rd|            NULL|           Dothan|                       AL|                     01|            36305|              1.0|  Metropolitan area...|                US| Gastroenterology|                            Y|Injection, vedoli...|             Y|            O|       14|   6300.0|                21|          25.0|      20.763904762|     16.602306349|      16.270260317|injection, vedoli...| ENTYVIO|1043264336|Gastroenterology|\n",
      "|   J1745|1053403923|       Maldonado-Alfandari|                 Martin|           NULL|                M.D.|                M|                  I|14547 Bruce B. Do...|            NULL|            Tampa|                       FL|                     12|            33613|              1.0|  Metropolitan area...|                US| Gastroenterology|                            Y|Injection, inflix...|             Y|            O|       14|   2023.5|                38|  179.95552261|      42.039901161|       33.6195404|      32.947141092|injection, inflix...|REMICADE|1053403923|Gastroenterology|\n",
      "|   J1745|1053571620|                    Gillis|                 Marcum|              G|                  MD|                M|                  I|2025 Frontis Plaz...|       Suite 200|    Winston Salem|                       NC|                     37|            27103|              1.0|  Metropolitan area...|                US| Gastroenterology|                            Y|Injection, inflix...|             Y|            O|       16|   1160.0|                21|         145.0|            40.333|     32.307948276|      32.778293103|injection, inflix...|REMICADE|1053571620|Gastroenterology|\n",
      "+--------+----------+--------------------------+-----------------------+---------------+--------------------+-----------------+-------------------+--------------------+----------------+-----------------+-------------------------+-----------------------+-----------------+-----------------+----------------------+------------------+-----------------+-----------------------------+--------------------+--------------+-------------+---------+---------+------------------+--------------+------------------+-----------------+------------------+--------------------+--------+----------+----------------+\n",
      "only showing top 20 rows\n",
      "\n"
     ]
    }
   ],
   "source": [
    "speciality_filter=spark.read.csv('Dataset/speciality_mappings.csv',header=True,inferSchema=True)\n",
    "fullcms_b=partialcms_b.join(speciality_filter,partialcms_b.Rndrng_NPI==speciality_filter.NPI,'inner')\n",
    "fullcms_b.show()"
   ]
  },
  {
   "cell_type": "markdown",
   "metadata": {},
   "source": [
    "Dropping Duplicated Columns\n",
    "---"
   ]
  },
  {
   "cell_type": "code",
   "execution_count": 8,
   "metadata": {},
   "outputs": [
    {
     "name": "stdout",
     "output_type": "stream",
     "text": [
      "+--------+----------+--------------------------+-----------------------+---------------+--------------------+-----------------+-------------------+--------------------+----------------+-----------------+-------------------------+-----------------------+-----------------+-----------------+----------------------+------------------+-----------------+-----------------------------+--------------------+--------------+-------------+---------+---------+------------------+--------------+------------------+-----------------+------------------+--------------------+--------+\n",
      "|HCPCS_Cd|Rndrng_NPI|Rndrng_Prvdr_Last_Org_Name|Rndrng_Prvdr_First_Name|Rndrng_Prvdr_MI|Rndrng_Prvdr_Crdntls|Rndrng_Prvdr_Gndr|Rndrng_Prvdr_Ent_Cd|    Rndrng_Prvdr_St1|Rndrng_Prvdr_St2|Rndrng_Prvdr_City|Rndrng_Prvdr_State_Abrvtn|Rndrng_Prvdr_State_FIPS|Rndrng_Prvdr_Zip5|Rndrng_Prvdr_RUCA|Rndrng_Prvdr_RUCA_Desc|Rndrng_Prvdr_Cntry|Rndrng_Prvdr_Type|Rndrng_Prvdr_Mdcr_Prtcptg_Ind|          HCPCS_Desc|HCPCS_Drug_Ind|Place_Of_Srvc|Tot_Benes|Tot_Srvcs|Tot_Bene_Day_Srvcs|Avg_Sbmtd_Chrg|Avg_Mdcr_Alowd_Amt|Avg_Mdcr_Pymt_Amt|Avg_Mdcr_Stdzd_Amt|          HCPCS_Desc|   BRAND|\n",
      "+--------+----------+--------------------------+-----------------------+---------------+--------------------+-----------------+-------------------+--------------------+----------------+-----------------+-------------------------+-----------------------+-----------------+-----------------+----------------------+------------------+-----------------+-----------------------------+--------------------+--------------+-------------+---------+---------+------------------+--------------+------------------+-----------------+------------------+--------------------+--------+\n",
      "|   J1745|1003078973|                   Trivedi|                 Chirag|              D|                D.O.|                M|                  I|13640 N 99th Ave ...|       Suite C-3|         Sun City|                       AZ|                     04|            85351|              1.0|  Metropolitan area...|                US| Gastroenterology|                            Y|Injection, inflix...|             Y|            O|       13|   1490.0|                28|         150.0|       42.02757047|     33.363610738|       32.69633557|injection, inflix...|REMICADE|\n",
      "|   J3380|1003078973|                   Trivedi|                 Chirag|              D|                D.O.|                M|                  I|13640 N 99th Ave ...|       Suite C-3|         Sun City|                       AZ|                     04|            85351|              1.0|  Metropolitan area...|                US| Gastroenterology|                            Y|Injection, vedoli...|             Y|            O|       12|  11101.0|                38|          51.0|      20.791233222|      16.58618683|      16.254463562|injection, vedoli...| ENTYVIO|\n",
      "|   J1745|1003255365|                    Krease|                Michael|              P|                D.O.|                M|                  I|1169 Eastern Pkwy...|            NULL|       Louisville|                       KY|                     21|            40217|              1.0|  Metropolitan area...|                US| Gastroenterology|                            Y|Injection, inflix...|             Y|            O|       12|   1210.0|                20|         118.0|      34.069884298|     27.293975207|      34.500413223|injection, inflix...|REMICADE|\n",
      "|   J3380|1003806043|                    Harlan|                William|              R|                M.D.|                M|                  I|    191 Biltmore Ave|            NULL|        Asheville|                       NC|                     37|            28801|              1.0|  Metropolitan area...|                US| Gastroenterology|                            Y|Injection, vedoli...|             Y|            O|       11|   3900.0|                13|          33.0|      20.765076923|     16.612061538|      16.279815385|injection, vedoli...| ENTYVIO|\n",
      "|   J1745|1003848102|                   Sheehan|                   Sean|              J|                M.D.|                M|                  I| 1375 Washington Ave|       Suite 101|           Albany|                       NY|                     36|            12206|              1.0|  Metropolitan area...|                US| Gastroenterology|                            Y|Injection, inflix...|             Y|            O|       14|   1510.0|                23|         150.0|      42.506662252|     33.957556291|      33.278397351|injection, inflix...|REMICADE|\n",
      "|   J3380|1003848102|                   Sheehan|                   Sean|              J|                M.D.|                M|                  I| 1375 Washington Ave|       Suite 101|           Albany|                       NY|                     36|            12206|              1.0|  Metropolitan area...|                US| Gastroenterology|                            Y|Injection, vedoli...|             Y|            O|       17|   7800.0|                26|          25.0|      20.933384615|     16.746707692|      16.449925641|injection, vedoli...| ENTYVIO|\n",
      "|   J1745|1003961236|                 Khazanchi|                   Arun|              P|                M.D.|                M|                  I| 11505 Palmbrush Trl|       Suite 200|   Lakewood Ranch|                       FL|                     12|            34202|              1.0|  Metropolitan area...|                US| Gastroenterology|                            Y|Injection, inflix...|             Y|            O|       20|   3840.0|                71|  98.088541667|      42.124278646|     33.468664063|      32.807864583|injection, inflix...|REMICADE|\n",
      "|   J1745|1013022680|                  Fillmore|               Geoffrey|              A|                D.O.|                M|                  I|     10210 E 91st St|            NULL|            Tulsa|                       OK|                     40|            74133|              1.0|  Metropolitan area...|                US| Gastroenterology|                            Y|Injection, inflix...|             Y|            O|       19|   1230.0|                26|         200.0|      41.923626016|     33.538894309|      32.868113821|injection, inflix...|REMICADE|\n",
      "|   J3380|1013147206|                    Bownik|                Hillary|              L|                 M.D|                F|                  I|4321 Washington S...|            NULL|      Kansas City|                       MO|                     29|            64111|              1.0|  Metropolitan area...|                US| Gastroenterology|                            Y|Injection, vedoli...|             Y|            O|       16|  40500.0|               135|          34.0|      20.857733333|     16.655876543|      16.322757778|injection, vedoli...| ENTYVIO|\n",
      "|   J1745|1013194414|                    Scheer|                   Marc|              A|                 D.O|                M|                  I|8901 Indian Hills Dr|       Suite 200|            Omaha|                       NE|                     31|            68114|              1.0|  Metropolitan area...|                US| Gastroenterology|                            Y|Injection, inflix...|             Y|            O|       31|   3000.0|                44|         140.0|          42.31396|     33.621186667|      32.948766667|injection, inflix...|REMICADE|\n",
      "|   J3380|1013194414|                    Scheer|                   Marc|              A|                 D.O|                M|                  I|8901 Indian Hills Dr|       Suite 200|            Omaha|                       NE|                     31|            68114|              1.0|  Metropolitan area...|                US| Gastroenterology|                            Y|Injection, vedoli...|             Y|            O|       31|  12000.0|                40|          38.0|           20.8241|         16.61868|      16.286304167|injection, vedoli...| ENTYVIO|\n",
      "|   J3380|1013980440|                      Chen|                 Zongyu|              J|                  MD|                M|                  I| 9145 Springbrook Dr|            #200|      Coon Rapids|                       MN|                     27|            55433|              1.0|  Metropolitan area...|                US| Gastroenterology|                            Y|Injection, vedoli...|             Y|            O|       13|   5100.0|                17|          32.0|      20.684294118|     16.440268627|      16.131490196|injection, vedoli...| ENTYVIO|\n",
      "|   J1745|1013990076|                    Phelan|                   Neil|              P|                M.D.|                M|                  I|2550 University A...| Suite 423 South|          St Paul|                       MN|                     27|            55114|              1.0|  Metropolitan area...|                US|Internal Medicine|                            Y|Injection, inflix...|             Y|            O|       15|   1110.0|                16|         100.0|      42.043297297|     33.488324324|      32.818585586|injection, inflix...|REMICADE|\n",
      "|   J1745|1023055340|                 Rodriguez|               Reynaldo|           NULL|                  DO|                M|                  I|3601 Springhill B...|            NULL|           Mobile|                       AL|                     01|            36608|              1.0|  Metropolitan area...|                US| Gastroenterology|                            Y|Injection, inflix...|             Y|            O|       14|   1180.0|                17|          96.0|            43.327|     34.661618644|      33.968381356|injection, inflix...|REMICADE|\n",
      "|   J3380|1023060480|                      Fink|                  Scott|              A|                  MD|                M|                  I| 100 E Lancaster Ave|       Suite 252|        Wynnewood|                       PA|                     42|            19096|              1.0|  Metropolitan area...|                US| Gastroenterology|                            Y|Injection, vedoli...|             Y|            O|       12|   6000.0|                20|          35.0|      19.835383333|     15.842906667|         16.551015|injection, vedoli...| ENTYVIO|\n",
      "|   J3380|1033372727|                     Clark|                 Robert|              E|                  MD|                M|                  I|   1302 Franklin Ave|      Suite 4800|           Normal|                       IL|                     17|            61761|              1.0|  Metropolitan area...|                US| Gastroenterology|                            Y|Injection, vedoli...|             Y|            O|       11|   9600.0|                32|          30.0|      20.169376042|     16.404459375|      16.658336458|injection, vedoli...| ENTYVIO|\n",
      "|   J1745|1043264336|                Crittenden|                Jeffrey|              J|                  MD|                M|                  I|  480 Honeysuckle Rd|            NULL|           Dothan|                       AL|                     01|            36305|              1.0|  Metropolitan area...|                US| Gastroenterology|                            Y|Injection, inflix...|             Y|            O|       23|   1980.0|                31|          96.0|      41.280323232|     33.000237374|      32.839151515|injection, inflix...|REMICADE|\n",
      "|   J3380|1043264336|                Crittenden|                Jeffrey|              J|                  MD|                M|                  I|  480 Honeysuckle Rd|            NULL|           Dothan|                       AL|                     01|            36305|              1.0|  Metropolitan area...|                US| Gastroenterology|                            Y|Injection, vedoli...|             Y|            O|       14|   6300.0|                21|          25.0|      20.763904762|     16.602306349|      16.270260317|injection, vedoli...| ENTYVIO|\n",
      "|   J1745|1053403923|       Maldonado-Alfandari|                 Martin|           NULL|                M.D.|                M|                  I|14547 Bruce B. Do...|            NULL|            Tampa|                       FL|                     12|            33613|              1.0|  Metropolitan area...|                US| Gastroenterology|                            Y|Injection, inflix...|             Y|            O|       14|   2023.5|                38|  179.95552261|      42.039901161|       33.6195404|      32.947141092|injection, inflix...|REMICADE|\n",
      "|   J1745|1053571620|                    Gillis|                 Marcum|              G|                  MD|                M|                  I|2025 Frontis Plaz...|       Suite 200|    Winston Salem|                       NC|                     37|            27103|              1.0|  Metropolitan area...|                US| Gastroenterology|                            Y|Injection, inflix...|             Y|            O|       16|   1160.0|                21|         145.0|            40.333|     32.307948276|      32.778293103|injection, inflix...|REMICADE|\n",
      "+--------+----------+--------------------------+-----------------------+---------------+--------------------+-----------------+-------------------+--------------------+----------------+-----------------+-------------------------+-----------------------+-----------------+-----------------+----------------------+------------------+-----------------+-----------------------------+--------------------+--------------+-------------+---------+---------+------------------+--------------+------------------+-----------------+------------------+--------------------+--------+\n",
      "only showing top 20 rows\n",
      "\n"
     ]
    }
   ],
   "source": [
    "fullcms_b=fullcms_b.drop('NPI','Speciality')\n",
    "fullcms_b.show()"
   ]
  },
  {
   "cell_type": "markdown",
   "metadata": {},
   "source": [
    "Filtering based on Speciality (Gastro)\n",
    "----"
   ]
  },
  {
   "cell_type": "code",
   "execution_count": 9,
   "metadata": {},
   "outputs": [],
   "source": [
    "# fullcms_b=fullcms_b.filter(col('Rndrng_Prvdr_Type').rlike('Gastro'))\n",
    "# fullcms_b.show()"
   ]
  },
  {
   "cell_type": "code",
   "execution_count": 10,
   "metadata": {},
   "outputs": [
    {
     "name": "stdout",
     "output_type": "stream",
     "text": [
      "Shape of Data: (500, 31)\n"
     ]
    }
   ],
   "source": [
    "print(\"Shape of Data:\",(fullcms_b.count(),len(fullcms_b.columns)))"
   ]
  },
  {
   "cell_type": "markdown",
   "metadata": {},
   "source": [
    "Unique Brand Names and HCPCS Code\n",
    "---"
   ]
  },
  {
   "cell_type": "code",
   "execution_count": 11,
   "metadata": {},
   "outputs": [
    {
     "name": "stdout",
     "output_type": "stream",
     "text": [
      "+--------+---------+\n",
      "|HCPCS_Cd|    BRAND|\n",
      "+--------+---------+\n",
      "|   J1745| REMICADE|\n",
      "|   J3380|  ENTYVIO|\n",
      "|   J3357|  STELARA|\n",
      "|   Q5104|RENFLEXIS|\n",
      "|   Q5121|   AVSOLA|\n",
      "|   Q5103|INFLECTRA|\n",
      "+--------+---------+\n",
      "\n"
     ]
    }
   ],
   "source": [
    "fullcms_b.select(['HCPCS_Cd','BRAND']).distinct().show()"
   ]
  },
  {
   "cell_type": "markdown",
   "metadata": {},
   "source": [
    "Dropping Unwanted Columns\n",
    "---"
   ]
  },
  {
   "cell_type": "code",
   "execution_count": 12,
   "metadata": {},
   "outputs": [
    {
     "name": "stdout",
     "output_type": "stream",
     "text": [
      "+----------+---------+---------+--------+\n",
      "|Rndrng_NPI|Tot_Benes|Tot_Srvcs|   BRAND|\n",
      "+----------+---------+---------+--------+\n",
      "|1003078973|       13|   1490.0|REMICADE|\n",
      "|1003078973|       12|  11101.0| ENTYVIO|\n",
      "|1003255365|       12|   1210.0|REMICADE|\n",
      "|1003806043|       11|   3900.0| ENTYVIO|\n",
      "|1003848102|       14|   1510.0|REMICADE|\n",
      "|1003848102|       17|   7800.0| ENTYVIO|\n",
      "|1003961236|       20|   3840.0|REMICADE|\n",
      "|1013022680|       19|   1230.0|REMICADE|\n",
      "|1013147206|       16|  40500.0| ENTYVIO|\n",
      "|1013194414|       31|   3000.0|REMICADE|\n",
      "|1013194414|       31|  12000.0| ENTYVIO|\n",
      "|1013980440|       13|   5100.0| ENTYVIO|\n",
      "|1013990076|       15|   1110.0|REMICADE|\n",
      "|1023055340|       14|   1180.0|REMICADE|\n",
      "|1023060480|       12|   6000.0| ENTYVIO|\n",
      "|1033372727|       11|   9600.0| ENTYVIO|\n",
      "|1043264336|       23|   1980.0|REMICADE|\n",
      "|1043264336|       14|   6300.0| ENTYVIO|\n",
      "|1053403923|       14|   2023.5|REMICADE|\n",
      "|1053571620|       16|   1160.0|REMICADE|\n",
      "+----------+---------+---------+--------+\n",
      "only showing top 20 rows\n",
      "\n"
     ]
    }
   ],
   "source": [
    "fullcms_b=fullcms_b.drop('HCPCS_Cd','Rndrng_Prvdr_Last_Org_Name','Rndrng_Prvdr_First_Name','Rndrng_Prvdr_MI', 'Rndrng_Prvdr_Crdntls','Rndrng_Prvdr_Gndr','Rndrng_Prvdr_Ent_Cd','Rndrng_Prvdr_St1','Rndrng_Prvdr_St2', 'Rndrng_Prvdr_City','Rndrng_Prvdr_State_Abrvtn','Rndrng_Prvdr_State_FIPS','Rndrng_Prvdr_Zip5','Rndrng_Prvdr_RUCA', 'Rndrng_Prvdr_RUCA_Desc','Rndrng_Prvdr_Cntry','Rndrng_Prvdr_Type','Rndrng_Prvdr_Mdcr_Prtcptg_Ind','HCPCS_Desc', 'HCPCS_Drug_Ind','Place_Of_Srvc','Tot_Bene_Day_Srvcs','Avg_Sbmtd_Chrg','Avg_Mdcr_Alowd_Amt','Avg_Mdcr_Pymt_Amt','Avg_Mdcr_Stdzd_Amt','HCPCS_Desc')\n",
    "fullcms_b.show()"
   ]
  },
  {
   "cell_type": "markdown",
   "metadata": {},
   "source": [
    "Renaming Columns\n",
    "---"
   ]
  },
  {
   "cell_type": "code",
   "execution_count": 13,
   "metadata": {},
   "outputs": [
    {
     "name": "stdout",
     "output_type": "stream",
     "text": [
      "+----------+---------+--------+---------+\n",
      "|       NPI|Tot_Benes|Tot_Clms|Drug_Name|\n",
      "+----------+---------+--------+---------+\n",
      "|1003078973|       13|  1490.0| REMICADE|\n",
      "|1003078973|       12| 11101.0|  ENTYVIO|\n",
      "|1003255365|       12|  1210.0| REMICADE|\n",
      "|1003806043|       11|  3900.0|  ENTYVIO|\n",
      "|1003848102|       14|  1510.0| REMICADE|\n",
      "|1003848102|       17|  7800.0|  ENTYVIO|\n",
      "|1003961236|       20|  3840.0| REMICADE|\n",
      "|1013022680|       19|  1230.0| REMICADE|\n",
      "|1013147206|       16| 40500.0|  ENTYVIO|\n",
      "|1013194414|       31|  3000.0| REMICADE|\n",
      "|1013194414|       31| 12000.0|  ENTYVIO|\n",
      "|1013980440|       13|  5100.0|  ENTYVIO|\n",
      "|1013990076|       15|  1110.0| REMICADE|\n",
      "|1023055340|       14|  1180.0| REMICADE|\n",
      "|1023060480|       12|  6000.0|  ENTYVIO|\n",
      "|1033372727|       11|  9600.0|  ENTYVIO|\n",
      "|1043264336|       23|  1980.0| REMICADE|\n",
      "|1043264336|       14|  6300.0|  ENTYVIO|\n",
      "|1053403923|       14|  2023.5| REMICADE|\n",
      "|1053571620|       16|  1160.0| REMICADE|\n",
      "+----------+---------+--------+---------+\n",
      "only showing top 20 rows\n",
      "\n"
     ]
    }
   ],
   "source": [
    "fullcms_b=fullcms_b.withColumnRenamed('BRAND','Drug_Name').withColumnRenamed('Tot_Srvcs','Tot_Clms').withColumnRenamed('Rndrng_NPI','NPI')\n",
    "fullcms_b.show()"
   ]
  },
  {
   "cell_type": "markdown",
   "metadata": {},
   "source": [
    "Reordering the Columns\n",
    "---"
   ]
  },
  {
   "cell_type": "code",
   "execution_count": 14,
   "metadata": {},
   "outputs": [
    {
     "name": "stdout",
     "output_type": "stream",
     "text": [
      "+----------+---------+---------+--------+\n",
      "|       NPI|Drug_Name|Tot_Benes|Tot_Clms|\n",
      "+----------+---------+---------+--------+\n",
      "|1003078973| REMICADE|       13|  1490.0|\n",
      "|1003078973|  ENTYVIO|       12| 11101.0|\n",
      "|1003255365| REMICADE|       12|  1210.0|\n",
      "|1003806043|  ENTYVIO|       11|  3900.0|\n",
      "|1003848102| REMICADE|       14|  1510.0|\n",
      "|1003848102|  ENTYVIO|       17|  7800.0|\n",
      "|1003961236| REMICADE|       20|  3840.0|\n",
      "|1013022680| REMICADE|       19|  1230.0|\n",
      "|1013147206|  ENTYVIO|       16| 40500.0|\n",
      "|1013194414| REMICADE|       31|  3000.0|\n",
      "|1013194414|  ENTYVIO|       31| 12000.0|\n",
      "|1013980440|  ENTYVIO|       13|  5100.0|\n",
      "|1013990076| REMICADE|       15|  1110.0|\n",
      "|1023055340| REMICADE|       14|  1180.0|\n",
      "|1023060480|  ENTYVIO|       12|  6000.0|\n",
      "|1033372727|  ENTYVIO|       11|  9600.0|\n",
      "|1043264336| REMICADE|       23|  1980.0|\n",
      "|1043264336|  ENTYVIO|       14|  6300.0|\n",
      "|1053403923| REMICADE|       14|  2023.5|\n",
      "|1053571620| REMICADE|       16|  1160.0|\n",
      "+----------+---------+---------+--------+\n",
      "only showing top 20 rows\n",
      "\n"
     ]
    }
   ],
   "source": [
    "fullcms_b=fullcms_b.select(['NPI','Drug_Name','Tot_Benes','Tot_Clms'])\n",
    "fullcms_b.show()"
   ]
  },
  {
   "cell_type": "code",
   "execution_count": 15,
   "metadata": {},
   "outputs": [
    {
     "name": "stdout",
     "output_type": "stream",
     "text": [
      "Shape of Dataset : (500, 4)\n"
     ]
    }
   ],
   "source": [
    "print(\"Shape of Dataset :\",(fullcms_b.count(),len(fullcms_b.columns)))"
   ]
  },
  {
   "cell_type": "markdown",
   "metadata": {},
   "source": [
    "Converting Data_Type of 'Tot_Clms' to 'int'\n",
    "--- "
   ]
  },
  {
   "cell_type": "code",
   "execution_count": 16,
   "metadata": {},
   "outputs": [
    {
     "name": "stdout",
     "output_type": "stream",
     "text": [
      "root\n",
      " |-- NPI: integer (nullable = true)\n",
      " |-- Drug_Name: string (nullable = true)\n",
      " |-- Tot_Benes: integer (nullable = true)\n",
      " |-- Tot_Clms: integer (nullable = true)\n",
      "\n"
     ]
    }
   ],
   "source": [
    "fullcms_b = fullcms_b.withColumn(\"Tot_Clms\",fullcms_b.Tot_Clms.cast(\"int\"))\n",
    "fullcms_b.printSchema()"
   ]
  },
  {
   "cell_type": "markdown",
   "metadata": {},
   "source": [
    "Count of Null Values in each Column\n",
    "--- "
   ]
  },
  {
   "cell_type": "code",
   "execution_count": 17,
   "metadata": {},
   "outputs": [
    {
     "name": "stdout",
     "output_type": "stream",
     "text": [
      "+---+---------+---------+--------+\n",
      "|NPI|Drug_Name|Tot_Benes|Tot_Clms|\n",
      "+---+---------+---------+--------+\n",
      "|  0|        0|        0|       0|\n",
      "+---+---------+---------+--------+\n",
      "\n"
     ]
    }
   ],
   "source": [
    "fullcms_b.select([count(when(isnan(c) | col(c).isNull(), c)).alias(c) for c in fullcms_b.columns]).show()"
   ]
  },
  {
   "cell_type": "markdown",
   "metadata": {},
   "source": [
    "Distinct Rows in CMS-B\n",
    "---"
   ]
  },
  {
   "cell_type": "code",
   "execution_count": 18,
   "metadata": {},
   "outputs": [
    {
     "data": {
      "text/plain": [
       "343"
      ]
     },
     "execution_count": 18,
     "metadata": {},
     "output_type": "execute_result"
    }
   ],
   "source": [
    "fullcms_b.select(['NPI']).distinct().count()"
   ]
  },
  {
   "cell_type": "markdown",
   "metadata": {},
   "source": [
    "Exporting CMS-B Dataset\n",
    "---"
   ]
  },
  {
   "cell_type": "code",
   "execution_count": 19,
   "metadata": {},
   "outputs": [],
   "source": [
    "pcms_b=fullcms_b.toPandas()\n",
    "pcms_b.to_csv('Output/Final_CMS_B.csv',index=False)"
   ]
  },
  {
   "cell_type": "markdown",
   "metadata": {},
   "source": [
    "Groupby Check by Drug Name\n",
    "---"
   ]
  },
  {
   "cell_type": "code",
   "execution_count": 20,
   "metadata": {},
   "outputs": [
    {
     "name": "stdout",
     "output_type": "stream",
     "text": [
      "+---------+-------------+------------+\n",
      "|Drug_Name|Tot_Benes_Sum|Tot_Clms_Sum|\n",
      "+---------+-------------+------------+\n",
      "| REMICADE|         4157|      420754|\n",
      "|  ENTYVIO|         3986|     2261749|\n",
      "|  STELARA|          126|       30060|\n",
      "|RENFLEXIS|           28|        7462|\n",
      "|   AVSOLA|           13|        5000|\n",
      "|INFLECTRA|           13|        6590|\n",
      "+---------+-------------+------------+\n",
      "\n"
     ]
    }
   ],
   "source": [
    "group_cms_b=fullcms_b\n",
    "group_cms_b=group_cms_b.groupby('Drug_Name').agg(sum(\"Tot_Benes\").alias(\"Tot_Benes_Sum\"),sum(\"Tot_Clms\").alias(\"Tot_Clms_Sum\"))\n",
    "group_cms_b.show()"
   ]
  },
  {
   "cell_type": "code",
   "execution_count": 21,
   "metadata": {},
   "outputs": [
    {
     "name": "stdout",
     "output_type": "stream",
     "text": [
      "Shape of Dataset : (6, 3)\n"
     ]
    }
   ],
   "source": [
    "print(\"Shape of Dataset :\",(group_cms_b.count(),len(group_cms_b.columns)))"
   ]
  },
  {
   "cell_type": "markdown",
   "metadata": {},
   "source": [
    "CMS-D Dataset\n",
    "---"
   ]
  },
  {
   "cell_type": "code",
   "execution_count": 22,
   "metadata": {},
   "outputs": [
    {
     "name": "stdout",
     "output_type": "stream",
     "text": [
      "+-----------+---------------------+------------------+------------+--------------------+------------------+-----------------+----------------+--------------------+--------------------+--------+---------------+-------------+------------+---------+---------------+-------------+--------------------+-----------------+------------------+--------------------+--------------+\n",
      "|Prscrbr_NPI|Prscrbr_Last_Org_Name|Prscrbr_First_Name|Prscrbr_City|Prscrbr_State_Abrvtn|Prscrbr_State_FIPS|     Prscrbr_Type|Prscrbr_Type_Src|           Brnd_Name|           Gnrc_Name|Tot_Clms|Tot_30day_Fills|Tot_Day_Suply|Tot_Drug_Cst|Tot_Benes|GE65_Sprsn_Flag|GE65_Tot_Clms|GE65_Tot_30day_Fills|GE65_Tot_Drug_Cst|GE65_Tot_Day_Suply|GE65_Bene_Sprsn_Flag|GE65_Tot_Benes|\n",
      "+-----------+---------------------+------------------+------------+--------------------+------------------+-----------------+----------------+--------------------+--------------------+--------+---------------+-------------+------------+---------+---------------+-------------+--------------------+-----------------+------------------+--------------------+--------------+\n",
      "| 1003000126|            Enkeshafi|           Ardalan|    Bethesda|                  MD|                24|Internal Medicine|               S|  Alendronate Sodium|  Alendronate Sodium|      11|           31.0|          930|      125.28|     NULL|           NULL|           11|                31.0|           125.28|               930|                   *|          NULL|\n",
      "| 1003000126|            Enkeshafi|           Ardalan|    Bethesda|                  MD|                24|Internal Medicine|               S| Amlodipine Besylate| Amlodipine Besylate|      64|          177.0|         5311|      812.86|       48|              #|         NULL|                NULL|             NULL|              NULL|                   #|          NULL|\n",
      "| 1003000126|            Enkeshafi|           Ardalan|    Bethesda|                  MD|                24|Internal Medicine|               S|            Atenolol|            Atenolol|      12|           36.0|         1080|      220.84|     NULL|           NULL|           12|                36.0|           220.84|              1080|                   *|          NULL|\n",
      "| 1003000126|            Enkeshafi|           Ardalan|    Bethesda|                  MD|                24|Internal Medicine|               S|Atorvastatin Calcium|Atorvastatin Calcium|      46|          122.0|         3660|      825.26|       38|              #|         NULL|                NULL|             NULL|              NULL|                   #|          NULL|\n",
      "| 1003000126|            Enkeshafi|           Ardalan|    Bethesda|                  MD|                24|Internal Medicine|               S|            Cefdinir|            Cefdinir|      11|           11.0|           89|       175.5|       11|              *|         NULL|                NULL|             NULL|              NULL|                   *|          NULL|\n",
      "| 1003000126|            Enkeshafi|           Ardalan|    Bethesda|                  MD|                24|Internal Medicine|               S|         Clopidogrel|Clopidogrel Bisul...|      14|           32.0|          960|      128.02|     NULL|           NULL|           14|                32.0|           128.02|               960|                   *|          NULL|\n",
      "| 1003000126|            Enkeshafi|           Ardalan|    Bethesda|                  MD|                24|Internal Medicine|               S|             Eliquis|            Apixaban|      15|           15.0|          422|     7150.87|     NULL|           NULL|           15|                15.0|          7150.87|               422|                   *|          NULL|\n",
      "| 1003000126|            Enkeshafi|           Ardalan|    Bethesda|                  MD|                24|Internal Medicine|               S|Escitalopram Oxalate|Escitalopram Oxalate|      30|           67.1|         2013|      703.42|       16|           NULL|           30|                67.1|           703.42|              2013|                NULL|            16|\n",
      "| 1003000126|            Enkeshafi|           Ardalan|    Bethesda|                  MD|                24|Internal Medicine|               S|         Finasteride|         Finasteride|      19|           57.0|         1710|      526.76|       13|           NULL|           19|                57.0|           526.76|              1710|                NULL|            13|\n",
      "| 1003000126|            Enkeshafi|           Ardalan|    Bethesda|                  MD|                24|Internal Medicine|               S|          Furosemide|          Furosemide|      20|           35.0|         1003|      158.74|       17|              #|         NULL|                NULL|             NULL|              NULL|                   #|          NULL|\n",
      "| 1003000126|            Enkeshafi|           Ardalan|    Bethesda|                  MD|                24|Internal Medicine|               S|          Gabapentin|          Gabapentin|      13|           25.0|          720|       222.0|       12|              #|         NULL|                NULL|             NULL|              NULL|                   #|          NULL|\n",
      "| 1003000126|            Enkeshafi|           Ardalan|    Bethesda|                  MD|                24|Internal Medicine|               S|        Glipizide Er|           Glipizide|      18|           50.0|         1500|      354.79|       13|           NULL|           18|                50.0|           354.79|              1500|                NULL|            13|\n",
      "| 1003000126|            Enkeshafi|           Ardalan|    Bethesda|                  MD|                24|Internal Medicine|               S|     Hydralazine Hcl|     Hydralazine Hcl|      31|           73.0|         2180|       358.6|       24|              #|         NULL|                NULL|             NULL|              NULL|                   #|          NULL|\n",
      "| 1003000126|            Enkeshafi|           Ardalan|    Bethesda|                  MD|                24|Internal Medicine|               S| Hydrochlorothiazide| Hydrochlorothiazide|      26|           68.1|         2043|      121.52|       17|           NULL|           26|                68.1|           121.52|              2043|                NULL|            17|\n",
      "| 1003000126|            Enkeshafi|           Ardalan|    Bethesda|                  MD|                24|Internal Medicine|               S|Isosorbide Mononi...|Isosorbide Mononi...|      11|           29.0|          870|       246.5|     NULL|           NULL|           11|                29.0|            246.5|               870|                   *|          NULL|\n",
      "| 1003000126|            Enkeshafi|           Ardalan|    Bethesda|                  MD|                24|Internal Medicine|               S|             Januvia|Sitagliptin Phosp...|      14|           36.0|         1080|    18816.27|     NULL|           NULL|           14|                36.0|         18816.27|              1080|                   *|          NULL|\n",
      "| 1003000126|            Enkeshafi|           Ardalan|    Bethesda|                  MD|                24|Internal Medicine|               S|Levothyroxine Sodium|Levothyroxine Sodium|      30|           80.0|         2384|      747.17|       21|           NULL|           30|                80.0|           747.17|              2384|                NULL|            21|\n",
      "| 1003000126|            Enkeshafi|           Ardalan|    Bethesda|                  MD|                24|Internal Medicine|               S|          Lisinopril|          Lisinopril|      23|           57.0|         1710|      239.14|       19|              #|         NULL|                NULL|             NULL|              NULL|                   #|          NULL|\n",
      "| 1003000126|            Enkeshafi|           Ardalan|    Bethesda|                  MD|                24|Internal Medicine|               S|  Losartan Potassium|  Losartan Potassium|      52|          152.0|         4560|     1125.87|       40|           NULL|           52|               152.0|          1125.87|              4560|                NULL|            40|\n",
      "| 1003000126|            Enkeshafi|           Ardalan|    Bethesda|                  MD|                24|Internal Medicine|               S|       Metformin Hcl|       Metformin Hcl|      32|           90.0|         2677|      269.62|       23|           NULL|           32|                90.0|           269.62|              2677|                NULL|            23|\n",
      "+-----------+---------------------+------------------+------------+--------------------+------------------+-----------------+----------------+--------------------+--------------------+--------+---------------+-------------+------------+---------+---------------+-------------+--------------------+-----------------+------------------+--------------------+--------------+\n",
      "only showing top 20 rows\n",
      "\n"
     ]
    }
   ],
   "source": [
    "cms_d=spark.read.csv('Dataset/cms_d.csv',header=True,inferSchema=True)\n",
    "cms_d.show()"
   ]
  },
  {
   "cell_type": "markdown",
   "metadata": {},
   "source": [
    "Dropping Unwanted Columns\n",
    "---"
   ]
  },
  {
   "cell_type": "code",
   "execution_count": 23,
   "metadata": {},
   "outputs": [
    {
     "name": "stdout",
     "output_type": "stream",
     "text": [
      "+-----------+--------------------+--------------------+--------+---------+\n",
      "|Prscrbr_NPI|           Brnd_Name|           Gnrc_Name|Tot_Clms|Tot_Benes|\n",
      "+-----------+--------------------+--------------------+--------+---------+\n",
      "| 1003000126|  Alendronate Sodium|  Alendronate Sodium|      11|     NULL|\n",
      "| 1003000126| Amlodipine Besylate| Amlodipine Besylate|      64|       48|\n",
      "| 1003000126|            Atenolol|            Atenolol|      12|     NULL|\n",
      "| 1003000126|Atorvastatin Calcium|Atorvastatin Calcium|      46|       38|\n",
      "| 1003000126|            Cefdinir|            Cefdinir|      11|       11|\n",
      "| 1003000126|         Clopidogrel|Clopidogrel Bisul...|      14|     NULL|\n",
      "| 1003000126|             Eliquis|            Apixaban|      15|     NULL|\n",
      "| 1003000126|Escitalopram Oxalate|Escitalopram Oxalate|      30|       16|\n",
      "| 1003000126|         Finasteride|         Finasteride|      19|       13|\n",
      "| 1003000126|          Furosemide|          Furosemide|      20|       17|\n",
      "| 1003000126|          Gabapentin|          Gabapentin|      13|       12|\n",
      "| 1003000126|        Glipizide Er|           Glipizide|      18|       13|\n",
      "| 1003000126|     Hydralazine Hcl|     Hydralazine Hcl|      31|       24|\n",
      "| 1003000126| Hydrochlorothiazide| Hydrochlorothiazide|      26|       17|\n",
      "| 1003000126|Isosorbide Mononi...|Isosorbide Mononi...|      11|     NULL|\n",
      "| 1003000126|             Januvia|Sitagliptin Phosp...|      14|     NULL|\n",
      "| 1003000126|Levothyroxine Sodium|Levothyroxine Sodium|      30|       21|\n",
      "| 1003000126|          Lisinopril|          Lisinopril|      23|       19|\n",
      "| 1003000126|  Losartan Potassium|  Losartan Potassium|      52|       40|\n",
      "| 1003000126|       Metformin Hcl|       Metformin Hcl|      32|       23|\n",
      "+-----------+--------------------+--------------------+--------+---------+\n",
      "only showing top 20 rows\n",
      "\n"
     ]
    }
   ],
   "source": [
    "cms_d=cms_d.drop('Prscrbr_Last_Org_Name', 'Prscrbr_First_Name', 'Prscrbr_City', 'Prscrbr_State_Abrvtn', 'Prscrbr_State_FIPS', 'Prscrbr_Type', 'Prscrbr_Type_Src','Tot_30day_Fills', 'Tot_Day_Suply', 'Tot_Drug_Cst', 'GE65_Sprsn_Flag', 'GE65_Tot_Clms', 'GE65_Tot_30day_Fills', 'GE65_Tot_Drug_Cst', 'GE65_Tot_Day_Suply', 'GE65_Bene_Sprsn_Flag', 'GE65_Tot_Benes')\n",
    "cms_d.show()"
   ]
  },
  {
   "cell_type": "code",
   "execution_count": 24,
   "metadata": {},
   "outputs": [
    {
     "name": "stdout",
     "output_type": "stream",
     "text": [
      "Shape of Dataset : (25231862, 5)\n"
     ]
    }
   ],
   "source": [
    "print(\"Shape of Dataset :\",(cms_d.count(),len(cms_d.columns)))"
   ]
  },
  {
   "cell_type": "markdown",
   "metadata": {},
   "source": [
    "Converting values to Lowercase in Brnd_Name\n",
    "---"
   ]
  },
  {
   "cell_type": "code",
   "execution_count": 25,
   "metadata": {},
   "outputs": [
    {
     "name": "stdout",
     "output_type": "stream",
     "text": [
      "+-----------+--------------------+--------------------+--------+---------+\n",
      "|Prscrbr_NPI|           Brnd_Name|           Gnrc_Name|Tot_Clms|Tot_Benes|\n",
      "+-----------+--------------------+--------------------+--------+---------+\n",
      "| 1003000126|  alendronate sodium|  alendronate sodium|      11|     NULL|\n",
      "| 1003000126| amlodipine besylate| amlodipine besylate|      64|       48|\n",
      "| 1003000126|            atenolol|            atenolol|      12|     NULL|\n",
      "| 1003000126|atorvastatin calcium|atorvastatin calcium|      46|       38|\n",
      "| 1003000126|            cefdinir|            cefdinir|      11|       11|\n",
      "| 1003000126|         clopidogrel|clopidogrel bisul...|      14|     NULL|\n",
      "| 1003000126|             eliquis|            apixaban|      15|     NULL|\n",
      "| 1003000126|escitalopram oxalate|escitalopram oxalate|      30|       16|\n",
      "| 1003000126|         finasteride|         finasteride|      19|       13|\n",
      "| 1003000126|          furosemide|          furosemide|      20|       17|\n",
      "| 1003000126|          gabapentin|          gabapentin|      13|       12|\n",
      "| 1003000126|        glipizide er|           glipizide|      18|       13|\n",
      "| 1003000126|     hydralazine hcl|     hydralazine hcl|      31|       24|\n",
      "| 1003000126| hydrochlorothiazide| hydrochlorothiazide|      26|       17|\n",
      "| 1003000126|isosorbide mononi...|isosorbide mononi...|      11|     NULL|\n",
      "| 1003000126|             januvia|sitagliptin phosp...|      14|     NULL|\n",
      "| 1003000126|levothyroxine sodium|levothyroxine sodium|      30|       21|\n",
      "| 1003000126|          lisinopril|          lisinopril|      23|       19|\n",
      "| 1003000126|  losartan potassium|  losartan potassium|      52|       40|\n",
      "| 1003000126|       metformin hcl|       metformin hcl|      32|       23|\n",
      "+-----------+--------------------+--------------------+--------+---------+\n",
      "only showing top 20 rows\n",
      "\n"
     ]
    }
   ],
   "source": [
    "cms_d=cms_d.withColumn('Brnd_Name',lower(cms_d['Brnd_Name']))\n",
    "cms_d=cms_d.withColumn('Gnrc_Name',lower(cms_d['Gnrc_Name']))\n",
    "cms_d.show()"
   ]
  },
  {
   "cell_type": "markdown",
   "metadata": {},
   "source": [
    "Combining CMS-D Data with CMS-D Brand Data\n",
    "---"
   ]
  },
  {
   "cell_type": "code",
   "execution_count": 26,
   "metadata": {},
   "outputs": [
    {
     "name": "stdout",
     "output_type": "stream",
     "text": [
      "+--------------+-----------+---------------+--------+---------+---------------+---------+\n",
      "|     Brnd_Name|Prscrbr_NPI|      Gnrc_Name|Tot_Clms|Tot_Benes|      Gnrc_Name|    BRAND|\n",
      "+--------------+-----------+---------------+--------+---------+---------------+---------+\n",
      "|humira(cf) pen| 1003002312|     adalimumab|      41|     NULL|     adalimumab|   HUMIRA|\n",
      "|      remicade| 1003002312|     infliximab|      12|     NULL|     infliximab| REMICADE|\n",
      "|humira(cf) pen| 1003003153|     adalimumab|      20|     NULL|     adalimumab|   HUMIRA|\n",
      "|       entyvio| 1003011891|    vedolizumab|      12|     NULL|    vedolizumab|  ENTYVIO|\n",
      "|humira(cf) pen| 1003014762|     adalimumab|      13|     NULL|     adalimumab|   HUMIRA|\n",
      "|    humira pen| 1003015173|     adalimumab|      32|     NULL|     adalimumab|   HUMIRA|\n",
      "|humira(cf) pen| 1003015173|     adalimumab|      12|     NULL|     adalimumab|   HUMIRA|\n",
      "|    humira(cf)| 1003040726|     adalimumab|      14|     NULL|     adalimumab|   HUMIRA|\n",
      "|    humira pen| 1003041625|     adalimumab|      13|     NULL|     adalimumab|   HUMIRA|\n",
      "|humira(cf) pen| 1003041625|     adalimumab|      40|     NULL|     adalimumab|   HUMIRA|\n",
      "|humira(cf) pen| 1003041666|     adalimumab|      12|     NULL|     adalimumab|   HUMIRA|\n",
      "|       simponi| 1003041666|      golimumab|      13|     NULL|      golimumab|  SIMPONI|\n",
      "|humira(cf) pen| 1003042078|     adalimumab|      12|     NULL|     adalimumab|   HUMIRA|\n",
      "|    humira pen| 1003042672|     adalimumab|      11|     NULL|     adalimumab|   HUMIRA|\n",
      "|humira(cf) pen| 1003043647|     adalimumab|      13|     NULL|     adalimumab|   HUMIRA|\n",
      "|humira(cf) pen| 1003045634|     adalimumab|      13|     NULL|     adalimumab|   HUMIRA|\n",
      "|     inflectra| 1003045634|infliximab-dyyb|      11|     NULL|infliximab-dyyb|INFLECTRA|\n",
      "|       stelara| 1003045634|    ustekinumab|      96|       15|    ustekinumab|  STELARA|\n",
      "|    humira pen| 1003047523|     adalimumab|      21|     NULL|     adalimumab|   HUMIRA|\n",
      "|humira(cf) pen| 1003052788|     adalimumab|      87|       11|     adalimumab|   HUMIRA|\n",
      "+--------------+-----------+---------------+--------+---------+---------------+---------+\n",
      "only showing top 20 rows\n",
      "\n"
     ]
    }
   ],
   "source": [
    "cms_d_brand_names=spark.read.csv('Dataset/cms_d_gnrc_name.csv',header=True,inferSchema=True)\n",
    "partialcms_d=cms_d.join(cms_d_brand_names,'Brnd_Name','inner')\n",
    "partialcms_d.show()"
   ]
  },
  {
   "cell_type": "code",
   "execution_count": 27,
   "metadata": {},
   "outputs": [
    {
     "name": "stdout",
     "output_type": "stream",
     "text": [
      "Shape of Dataset : (22225, 7)\n"
     ]
    }
   ],
   "source": [
    "print(\"Shape of Dataset :\",(partialcms_d.count(),len(partialcms_d.columns)))"
   ]
  },
  {
   "cell_type": "markdown",
   "metadata": {},
   "source": [
    "Joining CMS-D with Speciality Mappings Data\n",
    "---"
   ]
  },
  {
   "cell_type": "code",
   "execution_count": 28,
   "metadata": {},
   "outputs": [
    {
     "name": "stdout",
     "output_type": "stream",
     "text": [
      "+--------------+-----------+---------------+--------+---------+---------------+---------+----------+----------------+\n",
      "|     Brnd_Name|Prscrbr_NPI|      Gnrc_Name|Tot_Clms|Tot_Benes|      Gnrc_Name|    BRAND|       NPI|      Speciality|\n",
      "+--------------+-----------+---------------+--------+---------+---------------+---------+----------+----------------+\n",
      "|       entyvio| 1003011891|    vedolizumab|      12|     NULL|    vedolizumab|  ENTYVIO|1003011891|Gastroenterology|\n",
      "|    humira pen| 1003042672|     adalimumab|      11|     NULL|     adalimumab|   HUMIRA|1003042672|Gastroenterology|\n",
      "|humira(cf) pen| 1003043647|     adalimumab|      13|     NULL|     adalimumab|   HUMIRA|1003043647|Gastroenterology|\n",
      "|humira(cf) pen| 1003045634|     adalimumab|      13|     NULL|     adalimumab|   HUMIRA|1003045634|Gastroenterology|\n",
      "|     inflectra| 1003045634|infliximab-dyyb|      11|     NULL|infliximab-dyyb|INFLECTRA|1003045634|Gastroenterology|\n",
      "|       stelara| 1003045634|    ustekinumab|      96|       15|    ustekinumab|  STELARA|1003045634|Gastroenterology|\n",
      "|humira(cf) pen| 1003069733|     adalimumab|      13|     NULL|     adalimumab|   HUMIRA|1003069733|Gastroenterology|\n",
      "|    humira pen| 1003078429|     adalimumab|      14|     NULL|     adalimumab|   HUMIRA|1003078429|Gastroenterology|\n",
      "|humira(cf) pen| 1003078429|     adalimumab|      13|     NULL|     adalimumab|   HUMIRA|1003078429|Gastroenterology|\n",
      "|       stelara| 1003078429|    ustekinumab|      13|     NULL|    ustekinumab|  STELARA|1003078429|Gastroenterology|\n",
      "|humira(cf) pen| 1003078973|     adalimumab|      46|     NULL|     adalimumab|   HUMIRA|1003078973|Gastroenterology|\n",
      "|    humira pen| 1003090085|     adalimumab|      13|     NULL|     adalimumab|   HUMIRA|1003090085|Gastroenterology|\n",
      "|humira(cf) pen| 1003102989|     adalimumab|      16|     NULL|     adalimumab|   HUMIRA|1003102989|Gastroenterology|\n",
      "|       stelara| 1003102989|    ustekinumab|      22|     NULL|    ustekinumab|  STELARA|1003102989|Gastroenterology|\n",
      "|       stelara| 1003172180|    ustekinumab|      24|     NULL|    ustekinumab|  STELARA|1003172180|Gastroenterology|\n",
      "|    humira pen| 1003196353|     adalimumab|      11|     NULL|     adalimumab|   HUMIRA|1003196353|Gastroenterology|\n",
      "|humira(cf) pen| 1003196353|     adalimumab|      26|     NULL|     adalimumab|   HUMIRA|1003196353|Gastroenterology|\n",
      "|      remicade| 1003196353|     infliximab|      11|     NULL|     infliximab| REMICADE|1003196353|Gastroenterology|\n",
      "|humira(cf) pen| 1003255365|     adalimumab|      13|     NULL|     adalimumab|   HUMIRA|1003255365|Gastroenterology|\n",
      "|       stelara| 1003255365|    ustekinumab|      18|     NULL|    ustekinumab|  STELARA|1003255365|Gastroenterology|\n",
      "+--------------+-----------+---------------+--------+---------+---------------+---------+----------+----------------+\n",
      "only showing top 20 rows\n",
      "\n"
     ]
    }
   ],
   "source": [
    "speciality_filter=spark.read.csv('Dataset/speciality_mappings.csv',header=True,inferSchema=True)\n",
    "fullcms_d=partialcms_d.join(speciality_filter,partialcms_d.Prscrbr_NPI==speciality_filter.NPI,'inner')\n",
    "fullcms_d.show()"
   ]
  },
  {
   "cell_type": "markdown",
   "metadata": {},
   "source": [
    "Dropping Unwanted Columns\n",
    "---"
   ]
  },
  {
   "cell_type": "code",
   "execution_count": 29,
   "metadata": {},
   "outputs": [
    {
     "name": "stdout",
     "output_type": "stream",
     "text": [
      "+-----------+--------+---------+---------+\n",
      "|Prscrbr_NPI|Tot_Clms|Tot_Benes|    BRAND|\n",
      "+-----------+--------+---------+---------+\n",
      "| 1003011891|      12|     NULL|  ENTYVIO|\n",
      "| 1003042672|      11|     NULL|   HUMIRA|\n",
      "| 1003043647|      13|     NULL|   HUMIRA|\n",
      "| 1003045634|      13|     NULL|   HUMIRA|\n",
      "| 1003045634|      11|     NULL|INFLECTRA|\n",
      "| 1003045634|      96|       15|  STELARA|\n",
      "| 1003069733|      13|     NULL|   HUMIRA|\n",
      "| 1003078429|      14|     NULL|   HUMIRA|\n",
      "| 1003078429|      13|     NULL|   HUMIRA|\n",
      "| 1003078429|      13|     NULL|  STELARA|\n",
      "| 1003078973|      46|     NULL|   HUMIRA|\n",
      "| 1003090085|      13|     NULL|   HUMIRA|\n",
      "| 1003102989|      16|     NULL|   HUMIRA|\n",
      "| 1003102989|      22|     NULL|  STELARA|\n",
      "| 1003172180|      24|     NULL|  STELARA|\n",
      "| 1003196353|      11|     NULL|   HUMIRA|\n",
      "| 1003196353|      26|     NULL|   HUMIRA|\n",
      "| 1003196353|      11|     NULL| REMICADE|\n",
      "| 1003255365|      13|     NULL|   HUMIRA|\n",
      "| 1003255365|      18|     NULL|  STELARA|\n",
      "+-----------+--------+---------+---------+\n",
      "only showing top 20 rows\n",
      "\n"
     ]
    }
   ],
   "source": [
    "fullcms_d=fullcms_d.drop('Brnd_Name','Gnrc_Name','NPI','Speciality')\n",
    "fullcms_d.show()"
   ]
  },
  {
   "cell_type": "markdown",
   "metadata": {},
   "source": [
    "Reordering the Columns\n",
    "---"
   ]
  },
  {
   "cell_type": "code",
   "execution_count": 30,
   "metadata": {},
   "outputs": [
    {
     "name": "stdout",
     "output_type": "stream",
     "text": [
      "+-----------+---------+---------+--------+\n",
      "|Prscrbr_NPI|    BRAND|Tot_Benes|Tot_Clms|\n",
      "+-----------+---------+---------+--------+\n",
      "| 1003011891|  ENTYVIO|     NULL|      12|\n",
      "| 1003042672|   HUMIRA|     NULL|      11|\n",
      "| 1003043647|   HUMIRA|     NULL|      13|\n",
      "| 1003045634|   HUMIRA|     NULL|      13|\n",
      "| 1003045634|INFLECTRA|     NULL|      11|\n",
      "| 1003045634|  STELARA|       15|      96|\n",
      "| 1003069733|   HUMIRA|     NULL|      13|\n",
      "| 1003078429|   HUMIRA|     NULL|      14|\n",
      "| 1003078429|   HUMIRA|     NULL|      13|\n",
      "| 1003078429|  STELARA|     NULL|      13|\n",
      "| 1003078973|   HUMIRA|     NULL|      46|\n",
      "| 1003090085|   HUMIRA|     NULL|      13|\n",
      "| 1003102989|   HUMIRA|     NULL|      16|\n",
      "| 1003102989|  STELARA|     NULL|      22|\n",
      "| 1003172180|  STELARA|     NULL|      24|\n",
      "| 1003196353|   HUMIRA|     NULL|      11|\n",
      "| 1003196353|   HUMIRA|     NULL|      26|\n",
      "| 1003196353| REMICADE|     NULL|      11|\n",
      "| 1003255365|   HUMIRA|     NULL|      13|\n",
      "| 1003255365|  STELARA|     NULL|      18|\n",
      "+-----------+---------+---------+--------+\n",
      "only showing top 20 rows\n",
      "\n"
     ]
    }
   ],
   "source": [
    "fullcms_d=fullcms_d.select('Prscrbr_NPI','BRAND','Tot_Benes','Tot_Clms')\n",
    "fullcms_d.show()\n"
   ]
  },
  {
   "cell_type": "markdown",
   "metadata": {},
   "source": [
    "Renaming Column Names\n",
    "---"
   ]
  },
  {
   "cell_type": "code",
   "execution_count": 31,
   "metadata": {},
   "outputs": [
    {
     "name": "stdout",
     "output_type": "stream",
     "text": [
      "+----------+---------+---------+--------+\n",
      "|       NPI|Drug_Name|Tot_Benes|Tot_Clms|\n",
      "+----------+---------+---------+--------+\n",
      "|1003011891|  ENTYVIO|     NULL|      12|\n",
      "|1003042672|   HUMIRA|     NULL|      11|\n",
      "|1003043647|   HUMIRA|     NULL|      13|\n",
      "|1003045634|   HUMIRA|     NULL|      13|\n",
      "|1003045634|INFLECTRA|     NULL|      11|\n",
      "|1003045634|  STELARA|       15|      96|\n",
      "|1003069733|   HUMIRA|     NULL|      13|\n",
      "|1003078429|   HUMIRA|     NULL|      14|\n",
      "|1003078429|   HUMIRA|     NULL|      13|\n",
      "|1003078429|  STELARA|     NULL|      13|\n",
      "|1003078973|   HUMIRA|     NULL|      46|\n",
      "|1003090085|   HUMIRA|     NULL|      13|\n",
      "|1003102989|   HUMIRA|     NULL|      16|\n",
      "|1003102989|  STELARA|     NULL|      22|\n",
      "|1003172180|  STELARA|     NULL|      24|\n",
      "|1003196353|   HUMIRA|     NULL|      11|\n",
      "|1003196353|   HUMIRA|     NULL|      26|\n",
      "|1003196353| REMICADE|     NULL|      11|\n",
      "|1003255365|   HUMIRA|     NULL|      13|\n",
      "|1003255365|  STELARA|     NULL|      18|\n",
      "+----------+---------+---------+--------+\n",
      "only showing top 20 rows\n",
      "\n"
     ]
    }
   ],
   "source": [
    "fullcms_d=fullcms_d.withColumnRenamed('Prscrbr_NPI','NPI').withColumnRenamed('BRAND','Drug_Name')\n",
    "fullcms_d.show()"
   ]
  },
  {
   "cell_type": "code",
   "execution_count": 32,
   "metadata": {},
   "outputs": [
    {
     "name": "stdout",
     "output_type": "stream",
     "text": [
      "Shape of Dataset : (4482, 4)\n"
     ]
    }
   ],
   "source": [
    "print(\"Shape of Dataset :\",(fullcms_d.count(),len(fullcms_d.columns)))"
   ]
  },
  {
   "cell_type": "markdown",
   "metadata": {},
   "source": [
    "Filter Checks\n",
    "---"
   ]
  },
  {
   "cell_type": "markdown",
   "metadata": {},
   "source": [
    "Distinct NPI and Drug_Name rows\n"
   ]
  },
  {
   "cell_type": "code",
   "execution_count": 33,
   "metadata": {},
   "outputs": [
    {
     "data": {
      "text/plain": [
       "4077"
      ]
     },
     "execution_count": 33,
     "metadata": {},
     "output_type": "execute_result"
    }
   ],
   "source": [
    "fullcms_d.select(['NPI','Drug_Name']).distinct().count()"
   ]
  },
  {
   "cell_type": "markdown",
   "metadata": {},
   "source": [
    "Distinct Drug_Names"
   ]
  },
  {
   "cell_type": "code",
   "execution_count": 34,
   "metadata": {},
   "outputs": [
    {
     "name": "stdout",
     "output_type": "stream",
     "text": [
      "+---------+\n",
      "|Drug_Name|\n",
      "+---------+\n",
      "|INFLECTRA|\n",
      "|   CIMZIA|\n",
      "|  SIMPONI|\n",
      "| REMICADE|\n",
      "|   HUMIRA|\n",
      "|  STELARA|\n",
      "|  ENTYVIO|\n",
      "|RENFLEXIS|\n",
      "+---------+\n",
      "\n"
     ]
    }
   ],
   "source": [
    "fullcms_d.select('Drug_Name').distinct().show()"
   ]
  },
  {
   "cell_type": "markdown",
   "metadata": {},
   "source": [
    "Count of Null Values in Each Column\n",
    "---"
   ]
  },
  {
   "cell_type": "code",
   "execution_count": 35,
   "metadata": {},
   "outputs": [
    {
     "name": "stdout",
     "output_type": "stream",
     "text": [
      "+---+---------+---------+--------+\n",
      "|NPI|Drug_Name|Tot_Benes|Tot_Clms|\n",
      "+---+---------+---------+--------+\n",
      "|  0|        0|     4410|       0|\n",
      "+---+---------+---------+--------+\n",
      "\n"
     ]
    }
   ],
   "source": [
    "fullcms_d.select([count(when(isnan(c) | col(c).isNull(), c)).alias(c) for c in fullcms_d.columns]).show()"
   ]
  },
  {
   "cell_type": "markdown",
   "metadata": {},
   "source": [
    "Filling Null Values in 'Total_Benes' with 0\n",
    "--- "
   ]
  },
  {
   "cell_type": "code",
   "execution_count": 36,
   "metadata": {},
   "outputs": [
    {
     "name": "stdout",
     "output_type": "stream",
     "text": [
      "+---+---------+---------+--------+\n",
      "|NPI|Drug_Name|Tot_Benes|Tot_Clms|\n",
      "+---+---------+---------+--------+\n",
      "|  0|        0|        0|       0|\n",
      "+---+---------+---------+--------+\n",
      "\n"
     ]
    }
   ],
   "source": [
    "fullcms_d=fullcms_d.fillna(value=0,subset='Tot_Benes')\n",
    "fullcms_d.select([count(when(isnan(c) | col(c).isNull(), c)).alias(c) for c in fullcms_d.columns]).show()"
   ]
  },
  {
   "cell_type": "code",
   "execution_count": 37,
   "metadata": {},
   "outputs": [
    {
     "name": "stdout",
     "output_type": "stream",
     "text": [
      "+----------+---------+---------+--------+\n",
      "|       NPI|Drug_Name|Tot_Benes|Tot_Clms|\n",
      "+----------+---------+---------+--------+\n",
      "|1003011891|  ENTYVIO|        0|      12|\n",
      "|1003042672|   HUMIRA|        0|      11|\n",
      "|1003043647|   HUMIRA|        0|      13|\n",
      "|1003045634|   HUMIRA|        0|      13|\n",
      "|1003045634|INFLECTRA|        0|      11|\n",
      "|1003045634|  STELARA|       15|      96|\n",
      "|1003069733|   HUMIRA|        0|      13|\n",
      "|1003078429|   HUMIRA|        0|      14|\n",
      "|1003078429|   HUMIRA|        0|      13|\n",
      "|1003078429|  STELARA|        0|      13|\n",
      "|1003078973|   HUMIRA|        0|      46|\n",
      "|1003090085|   HUMIRA|        0|      13|\n",
      "|1003102989|   HUMIRA|        0|      16|\n",
      "|1003102989|  STELARA|        0|      22|\n",
      "|1003172180|  STELARA|        0|      24|\n",
      "|1003196353|   HUMIRA|        0|      11|\n",
      "|1003196353|   HUMIRA|        0|      26|\n",
      "|1003196353| REMICADE|        0|      11|\n",
      "|1003255365|   HUMIRA|        0|      13|\n",
      "|1003255365|  STELARA|        0|      18|\n",
      "+----------+---------+---------+--------+\n",
      "only showing top 20 rows\n",
      "\n"
     ]
    }
   ],
   "source": [
    "fullcms_d.show()"
   ]
  },
  {
   "cell_type": "markdown",
   "metadata": {},
   "source": [
    "Aggregating NPI and Drug_Name\n",
    "---"
   ]
  },
  {
   "cell_type": "code",
   "execution_count": 38,
   "metadata": {},
   "outputs": [
    {
     "name": "stdout",
     "output_type": "stream",
     "text": [
      "+----------+---------+---------+--------+\n",
      "|       NPI|Drug_Name|Tot_Benes|Tot_Clms|\n",
      "+----------+---------+---------+--------+\n",
      "|1003822875|   HUMIRA|        0|      25|\n",
      "|1003861816|   CIMZIA|        0|      13|\n",
      "|1013088046|   HUMIRA|        0|      12|\n",
      "|1023264900|   HUMIRA|        0|      74|\n",
      "|1033206941|   CIMZIA|        0|      12|\n",
      "|1023003563|   HUMIRA|        0|      14|\n",
      "|1023081486|   HUMIRA|        0|      12|\n",
      "|1023441375|   HUMIRA|        0|      13|\n",
      "|1023467198|   HUMIRA|        0|      22|\n",
      "|1003011891|  ENTYVIO|        0|      12|\n",
      "|1013981737|   HUMIRA|        0|      82|\n",
      "|1033147848|  STELARA|        0|      15|\n",
      "|1023032414|   HUMIRA|        0|      14|\n",
      "|1003078429|  STELARA|        0|      13|\n",
      "|1003869215|  STELARA|        0|      16|\n",
      "|1013908920|   HUMIRA|        0|      14|\n",
      "|1013945930|   HUMIRA|        0|      27|\n",
      "|1013118231|   HUMIRA|        0|      13|\n",
      "|1003898602|   HUMIRA|        0|      17|\n",
      "|1013147206|   HUMIRA|        0|      17|\n",
      "+----------+---------+---------+--------+\n",
      "only showing top 20 rows\n",
      "\n"
     ]
    }
   ],
   "source": [
    "fullcms_d = fullcms_d.groupBy(\"NPI\",\"Drug_Name\").agg(sum(\"Tot_Benes\").alias(\"Tot_Benes\"),sum(\"Tot_Clms\").alias(\"Tot_Clms\"))\n",
    "fullcms_d.show()"
   ]
  },
  {
   "cell_type": "code",
   "execution_count": 39,
   "metadata": {},
   "outputs": [
    {
     "name": "stdout",
     "output_type": "stream",
     "text": [
      "Shape of Dataset : (4077, 4)\n"
     ]
    }
   ],
   "source": [
    "print(\"Shape of Dataset :\",(fullcms_d.count(),len(fullcms_d.columns)))"
   ]
  },
  {
   "cell_type": "markdown",
   "metadata": {},
   "source": [
    "Distinct NPI Count\n",
    "---"
   ]
  },
  {
   "cell_type": "code",
   "execution_count": 40,
   "metadata": {},
   "outputs": [
    {
     "data": {
      "text/plain": [
       "3334"
      ]
     },
     "execution_count": 40,
     "metadata": {},
     "output_type": "execute_result"
    }
   ],
   "source": [
    "fullcms_d.select('NPI').distinct().count()"
   ]
  },
  {
   "cell_type": "markdown",
   "metadata": {},
   "source": [
    "Count of Null Values in each Column\n",
    "---"
   ]
  },
  {
   "cell_type": "code",
   "execution_count": 41,
   "metadata": {},
   "outputs": [
    {
     "name": "stdout",
     "output_type": "stream",
     "text": [
      "+---+---------+---------+--------+\n",
      "|NPI|Drug_Name|Tot_Benes|Tot_Clms|\n",
      "+---+---------+---------+--------+\n",
      "|  0|        0|        0|       0|\n",
      "+---+---------+---------+--------+\n",
      "\n"
     ]
    }
   ],
   "source": [
    "fullcms_d.select([count(when(isnan(c) | col(c).isNull(), c)).alias(c) for c in fullcms_d.columns]).show()"
   ]
  },
  {
   "cell_type": "markdown",
   "metadata": {},
   "source": [
    "Exporting CMS-D Data\n",
    "---"
   ]
  },
  {
   "cell_type": "code",
   "execution_count": 42,
   "metadata": {},
   "outputs": [],
   "source": [
    "pcms_d=fullcms_d.toPandas()\n",
    "pcms_d.to_csv('Output/Final_CMS_D.csv',index=False)"
   ]
  },
  {
   "cell_type": "markdown",
   "metadata": {},
   "source": [
    "Groupby Check by Drug Name\n",
    "---"
   ]
  },
  {
   "cell_type": "code",
   "execution_count": 43,
   "metadata": {},
   "outputs": [
    {
     "name": "stdout",
     "output_type": "stream",
     "text": [
      "+---------+-------------+------------+\n",
      "|Drug_Name|Tot_Benes_Sum|Tot_Clms_Sum|\n",
      "+---------+-------------+------------+\n",
      "|INFLECTRA|            0|          48|\n",
      "|   CIMZIA|            0|        2808|\n",
      "|  SIMPONI|            0|        1005|\n",
      "| REMICADE|            0|        1035|\n",
      "|   HUMIRA|          121|       59023|\n",
      "|  STELARA|         1015|       21512|\n",
      "|RENFLEXIS|            0|          13|\n",
      "|  ENTYVIO|            0|        2189|\n",
      "+---------+-------------+------------+\n",
      "\n"
     ]
    }
   ],
   "source": [
    "group_cms_d=fullcms_d\n",
    "group_cms_d=group_cms_d.groupby('Drug_Name').agg(sum(\"Tot_Benes\").alias(\"Tot_Benes_Sum\"),sum(\"Tot_Clms\").alias(\"Tot_Clms_Sum\"))\n",
    "group_cms_d.show()"
   ]
  },
  {
   "cell_type": "code",
   "execution_count": 44,
   "metadata": {},
   "outputs": [
    {
     "name": "stdout",
     "output_type": "stream",
     "text": [
      "Shape of Dataset : (8, 3)\n"
     ]
    }
   ],
   "source": [
    "print(\"Shape of Dataset :\",(group_cms_d.count(),len(group_cms_d.columns)))"
   ]
  },
  {
   "cell_type": "markdown",
   "metadata": {},
   "source": [
    "Combining Grouped_CMS_B Data with Grouped_CMS_D Data\n",
    "---"
   ]
  },
  {
   "cell_type": "code",
   "execution_count": 45,
   "metadata": {},
   "outputs": [
    {
     "name": "stdout",
     "output_type": "stream",
     "text": [
      "+---------+-------------+------------+\n",
      "|Drug_Name|Tot_Benes_Sum|Tot_Clms_Sum|\n",
      "+---------+-------------+------------+\n",
      "| REMICADE|         4157|      420754|\n",
      "|  ENTYVIO|         3986|     2261749|\n",
      "|  STELARA|          126|       30060|\n",
      "|RENFLEXIS|           28|        7462|\n",
      "|   AVSOLA|           13|        5000|\n",
      "|INFLECTRA|           13|        6590|\n",
      "|INFLECTRA|            0|          48|\n",
      "|   CIMZIA|            0|        2808|\n",
      "|  SIMPONI|            0|        1005|\n",
      "| REMICADE|            0|        1035|\n",
      "|   HUMIRA|          121|       59023|\n",
      "|  STELARA|         1015|       21512|\n",
      "|RENFLEXIS|            0|          13|\n",
      "|  ENTYVIO|            0|        2189|\n",
      "+---------+-------------+------------+\n",
      "\n"
     ]
    }
   ],
   "source": [
    "merged_grouped_cms=group_cms_b.union(group_cms_d)\n",
    "merged_grouped_cms.show()"
   ]
  },
  {
   "cell_type": "code",
   "execution_count": 46,
   "metadata": {},
   "outputs": [
    {
     "name": "stdout",
     "output_type": "stream",
     "text": [
      "Shape of Dataset : (14, 3)\n"
     ]
    }
   ],
   "source": [
    "print(\"Shape of Dataset :\",(merged_grouped_cms.count(),len(merged_grouped_cms.columns)))"
   ]
  },
  {
   "cell_type": "markdown",
   "metadata": {},
   "source": [
    "Aggregated Final Grouped Data (Data Validation)\n",
    "---"
   ]
  },
  {
   "cell_type": "code",
   "execution_count": 47,
   "metadata": {},
   "outputs": [
    {
     "name": "stdout",
     "output_type": "stream",
     "text": [
      "+---------+-------------+------------+\n",
      "|Drug_Name|Tot_Benes_Sum|Tot_Clms_Sum|\n",
      "+---------+-------------+------------+\n",
      "|INFLECTRA|           13|        6638|\n",
      "| REMICADE|         4157|      421789|\n",
      "|   AVSOLA|           13|        5000|\n",
      "|  STELARA|         1141|       51572|\n",
      "|RENFLEXIS|           28|        7475|\n",
      "|  ENTYVIO|         3986|     2263938|\n",
      "|   CIMZIA|            0|        2808|\n",
      "|  SIMPONI|            0|        1005|\n",
      "|   HUMIRA|          121|       59023|\n",
      "+---------+-------------+------------+\n",
      "\n"
     ]
    }
   ],
   "source": [
    "merged_grouped_cms=merged_grouped_cms.groupby('Drug_Name').agg(sum(\"Tot_Benes_Sum\").alias(\"Tot_Benes_Sum\"),sum(\"Tot_Clms_Sum\").alias(\"Tot_Clms_Sum\"))\n",
    "merged_grouped_cms.show()"
   ]
  },
  {
   "cell_type": "code",
   "execution_count": 48,
   "metadata": {},
   "outputs": [
    {
     "name": "stdout",
     "output_type": "stream",
     "text": [
      "Shape of Dataset : (9, 3)\n"
     ]
    }
   ],
   "source": [
    "print(\"Shape of Dataset :\",(merged_grouped_cms.count(),len(merged_grouped_cms.columns)))"
   ]
  },
  {
   "cell_type": "code",
   "execution_count": 49,
   "metadata": {},
   "outputs": [],
   "source": [
    "pmg=merged_grouped_cms.toPandas()\n",
    "pmg.to_csv('output/raw_grouped_result.csv',index=False)"
   ]
  },
  {
   "cell_type": "markdown",
   "metadata": {},
   "source": [
    "Appending CMS-B and CMS-D Data\n",
    "---"
   ]
  },
  {
   "cell_type": "code",
   "execution_count": 50,
   "metadata": {},
   "outputs": [
    {
     "name": "stdout",
     "output_type": "stream",
     "text": [
      "+----------+---------+---------+--------+\n",
      "|       NPI|Drug_Name|Tot_Benes|Tot_Clms|\n",
      "+----------+---------+---------+--------+\n",
      "|1003078973| REMICADE|       13|    1490|\n",
      "|1003078973|  ENTYVIO|       12|   11101|\n",
      "|1003255365| REMICADE|       12|    1210|\n",
      "|1003806043|  ENTYVIO|       11|    3900|\n",
      "|1003848102| REMICADE|       14|    1510|\n",
      "|1003848102|  ENTYVIO|       17|    7800|\n",
      "|1003961236| REMICADE|       20|    3840|\n",
      "|1013022680| REMICADE|       19|    1230|\n",
      "|1013147206|  ENTYVIO|       16|   40500|\n",
      "|1013194414| REMICADE|       31|    3000|\n",
      "|1013194414|  ENTYVIO|       31|   12000|\n",
      "|1013980440|  ENTYVIO|       13|    5100|\n",
      "|1013990076| REMICADE|       15|    1110|\n",
      "|1023055340| REMICADE|       14|    1180|\n",
      "|1023060480|  ENTYVIO|       12|    6000|\n",
      "|1033372727|  ENTYVIO|       11|    9600|\n",
      "|1043264336| REMICADE|       23|    1980|\n",
      "|1043264336|  ENTYVIO|       14|    6300|\n",
      "|1053403923| REMICADE|       14|    2023|\n",
      "|1053571620| REMICADE|       16|    1160|\n",
      "+----------+---------+---------+--------+\n",
      "only showing top 20 rows\n",
      "\n"
     ]
    }
   ],
   "source": [
    "mergedcms=fullcms_b.union(fullcms_d)\n",
    "mergedcms.show()"
   ]
  },
  {
   "cell_type": "code",
   "execution_count": 51,
   "metadata": {},
   "outputs": [
    {
     "name": "stdout",
     "output_type": "stream",
     "text": [
      "Shape of Dataset : (4577, 4)\n"
     ]
    }
   ],
   "source": [
    "print(\"Shape of Dataset :\",(mergedcms.count(),len(mergedcms.columns)))"
   ]
  },
  {
   "cell_type": "markdown",
   "metadata": {},
   "source": [
    "Final Grouping based on Drug_Names (Data Validation)\n",
    "---"
   ]
  },
  {
   "cell_type": "code",
   "execution_count": 52,
   "metadata": {},
   "outputs": [
    {
     "name": "stdout",
     "output_type": "stream",
     "text": [
      "+---------+-------------+------------+\n",
      "|Drug_Name|Tot_Benes_Sum|Tot_Clms_Sum|\n",
      "+---------+-------------+------------+\n",
      "| REMICADE|         4157|      421789|\n",
      "|  ENTYVIO|         3986|     2263938|\n",
      "|  STELARA|         1141|       51572|\n",
      "|RENFLEXIS|           28|        7475|\n",
      "|   AVSOLA|           13|        5000|\n",
      "|INFLECTRA|           13|        6638|\n",
      "|   CIMZIA|            0|        2808|\n",
      "|  SIMPONI|            0|        1005|\n",
      "|   HUMIRA|          121|       59023|\n",
      "+---------+-------------+------------+\n",
      "\n"
     ]
    }
   ],
   "source": [
    "finalgroupcms=mergedcms.groupby('Drug_Name').agg(sum(\"Tot_Benes\").alias(\"Tot_Benes_Sum\"),sum(\"Tot_Clms\").alias(\"Tot_Clms_Sum\"))\n",
    "finalgroupcms.show()"
   ]
  },
  {
   "cell_type": "code",
   "execution_count": 53,
   "metadata": {},
   "outputs": [],
   "source": [
    "# pmg=finalgroupcms.toPandas()\n",
    "# pmg.to_csv('output/grouped_result_after_appending.csv',index=False)"
   ]
  },
  {
   "cell_type": "markdown",
   "metadata": {},
   "source": [
    "Distinct Drug Names\n",
    "---"
   ]
  },
  {
   "cell_type": "code",
   "execution_count": 54,
   "metadata": {},
   "outputs": [
    {
     "name": "stdout",
     "output_type": "stream",
     "text": [
      "+---------+\n",
      "|Drug_Name|\n",
      "+---------+\n",
      "| REMICADE|\n",
      "|  ENTYVIO|\n",
      "|  STELARA|\n",
      "|RENFLEXIS|\n",
      "|   AVSOLA|\n",
      "|INFLECTRA|\n",
      "|   CIMZIA|\n",
      "|  SIMPONI|\n",
      "|   HUMIRA|\n",
      "+---------+\n",
      "\n"
     ]
    }
   ],
   "source": [
    "mergedcms.select('Drug_Name').distinct().show()"
   ]
  },
  {
   "cell_type": "markdown",
   "metadata": {},
   "source": [
    "Distinct Drug_Name Count\n",
    "---"
   ]
  },
  {
   "cell_type": "code",
   "execution_count": 55,
   "metadata": {},
   "outputs": [
    {
     "data": {
      "text/plain": [
       "9"
      ]
     },
     "execution_count": 55,
     "metadata": {},
     "output_type": "execute_result"
    }
   ],
   "source": [
    "mergedcms.select('Drug_Name').distinct().count()"
   ]
  },
  {
   "cell_type": "markdown",
   "metadata": {},
   "source": [
    "Aggregating based on NPI and Drug_Name \n",
    "---"
   ]
  },
  {
   "cell_type": "code",
   "execution_count": 56,
   "metadata": {},
   "outputs": [],
   "source": [
    "mergedcms = mergedcms.groupBy(\"NPI\",\"Drug_Name\").agg(sum(\"Tot_Benes\").alias(\"Tot_Benes\"),sum(\"Tot_Clms\").alias(\"Tot_Clms\"))"
   ]
  },
  {
   "cell_type": "code",
   "execution_count": 57,
   "metadata": {},
   "outputs": [
    {
     "name": "stdout",
     "output_type": "stream",
     "text": [
      "Shape of Dataset : (4568, 4)\n"
     ]
    }
   ],
   "source": [
    "print(\"Shape of Dataset :\",(mergedcms.count(),len(mergedcms.columns)))"
   ]
  },
  {
   "cell_type": "markdown",
   "metadata": {},
   "source": [
    "Count of Distinct Rows\n",
    "---"
   ]
  },
  {
   "cell_type": "code",
   "execution_count": 58,
   "metadata": {},
   "outputs": [
    {
     "data": {
      "text/plain": [
       "4568"
      ]
     },
     "execution_count": 58,
     "metadata": {},
     "output_type": "execute_result"
    }
   ],
   "source": [
    "mergedcms.select(['NPI','Drug_Name']).distinct().count()"
   ]
  },
  {
   "cell_type": "code",
   "execution_count": 59,
   "metadata": {},
   "outputs": [
    {
     "name": "stdout",
     "output_type": "stream",
     "text": [
      "+----------+---------------------+--------------------+---------------------+--------------------+----------------------+---------------------+---------------------+--------------------+------------------------+-----------------------+-----------------------+----------------------+------------------------+-----------------------+----------------------+---------------------+----------------------+---------------------+\n",
      "|NPI       |AVSOLA_sum(Tot_Benes)|AVSOLA_sum(Tot_Clms)|CIMZIA_sum(Tot_Benes)|CIMZIA_sum(Tot_Clms)|ENTYVIO_sum(Tot_Benes)|ENTYVIO_sum(Tot_Clms)|HUMIRA_sum(Tot_Benes)|HUMIRA_sum(Tot_Clms)|INFLECTRA_sum(Tot_Benes)|INFLECTRA_sum(Tot_Clms)|REMICADE_sum(Tot_Benes)|REMICADE_sum(Tot_Clms)|RENFLEXIS_sum(Tot_Benes)|RENFLEXIS_sum(Tot_Clms)|SIMPONI_sum(Tot_Benes)|SIMPONI_sum(Tot_Clms)|STELARA_sum(Tot_Benes)|STELARA_sum(Tot_Clms)|\n",
      "+----------+---------------------+--------------------+---------------------+--------------------+----------------------+---------------------+---------------------+--------------------+------------------------+-----------------------+-----------------------+----------------------+------------------------+-----------------------+----------------------+---------------------+----------------------+---------------------+\n",
      "|1093966897|NULL                 |NULL                |NULL                 |NULL                |NULL                  |NULL                 |0                    |34                  |NULL                    |NULL                   |NULL                   |NULL                  |NULL                    |NULL                   |NULL                  |NULL                 |NULL                  |NULL                 |\n",
      "|1518923838|NULL                 |NULL                |NULL                 |NULL                |NULL                  |NULL                 |0                    |23                  |NULL                    |NULL                   |NULL                   |NULL                  |NULL                    |NULL                   |NULL                  |NULL                 |NULL                  |NULL                 |\n",
      "|1508894262|NULL                 |NULL                |NULL                 |NULL                |NULL                  |NULL                 |0                    |27                  |NULL                    |NULL                   |NULL                   |NULL                  |NULL                    |NULL                   |NULL                  |NULL                 |NULL                  |NULL                 |\n",
      "|1427213461|NULL                 |NULL                |NULL                 |NULL                |NULL                  |NULL                 |0                    |22                  |NULL                    |NULL                   |NULL                   |NULL                  |NULL                    |NULL                   |NULL                  |NULL                 |0                     |27                   |\n",
      "|1821070376|NULL                 |NULL                |NULL                 |NULL                |NULL                  |NULL                 |0                    |26                  |NULL                    |NULL                   |NULL                   |NULL                  |NULL                    |NULL                   |NULL                  |NULL                 |NULL                  |NULL                 |\n",
      "|1174518344|NULL                 |NULL                |0                    |11                  |NULL                  |NULL                 |NULL                 |NULL                |NULL                    |NULL                   |NULL                   |NULL                  |NULL                    |NULL                   |NULL                  |NULL                 |NULL                  |NULL                 |\n",
      "|1235161779|NULL                 |NULL                |NULL                 |NULL                |NULL                  |NULL                 |0                    |15                  |NULL                    |NULL                   |NULL                   |NULL                  |NULL                    |NULL                   |NULL                  |NULL                 |NULL                  |NULL                 |\n",
      "|1700073251|NULL                 |NULL                |NULL                 |NULL                |NULL                  |NULL                 |0                    |22                  |NULL                    |NULL                   |NULL                   |NULL                  |NULL                    |NULL                   |NULL                  |NULL                 |NULL                  |NULL                 |\n",
      "|1225059116|NULL                 |NULL                |NULL                 |NULL                |NULL                  |NULL                 |0                    |33                  |NULL                    |NULL                   |NULL                   |NULL                  |NULL                    |NULL                   |NULL                  |NULL                 |0                     |21                   |\n",
      "|1982628806|NULL                 |NULL                |NULL                 |NULL                |NULL                  |NULL                 |0                    |20                  |NULL                    |NULL                   |NULL                   |NULL                  |NULL                    |NULL                   |NULL                  |NULL                 |NULL                  |NULL                 |\n",
      "|1194764753|NULL                 |NULL                |NULL                 |NULL                |NULL                  |NULL                 |0                    |23                  |NULL                    |NULL                   |NULL                   |NULL                  |NULL                    |NULL                   |NULL                  |NULL                 |NULL                  |NULL                 |\n",
      "|1700958543|NULL                 |NULL                |NULL                 |NULL                |NULL                  |NULL                 |0                    |50                  |NULL                    |NULL                   |NULL                   |NULL                  |NULL                    |NULL                   |NULL                  |NULL                 |NULL                  |NULL                 |\n",
      "|1346402732|NULL                 |NULL                |NULL                 |NULL                |NULL                  |NULL                 |0                    |14                  |NULL                    |NULL                   |NULL                   |NULL                  |NULL                    |NULL                   |NULL                  |NULL                 |NULL                  |NULL                 |\n",
      "|1821103573|NULL                 |NULL                |NULL                 |NULL                |NULL                  |NULL                 |0                    |11                  |NULL                    |NULL                   |NULL                   |NULL                  |NULL                    |NULL                   |NULL                  |NULL                 |NULL                  |NULL                 |\n",
      "|1932270832|NULL                 |NULL                |NULL                 |NULL                |NULL                  |NULL                 |0                    |13                  |NULL                    |NULL                   |NULL                   |NULL                  |NULL                    |NULL                   |NULL                  |NULL                 |NULL                  |NULL                 |\n",
      "|1548255953|NULL                 |NULL                |NULL                 |NULL                |NULL                  |NULL                 |0                    |13                  |NULL                    |NULL                   |NULL                   |NULL                  |NULL                    |NULL                   |NULL                  |NULL                 |NULL                  |NULL                 |\n",
      "|1194806489|NULL                 |NULL                |NULL                 |NULL                |NULL                  |NULL                 |0                    |12                  |NULL                    |NULL                   |NULL                   |NULL                  |NULL                    |NULL                   |NULL                  |NULL                 |NULL                  |NULL                 |\n",
      "|1720283625|NULL                 |NULL                |NULL                 |NULL                |NULL                  |NULL                 |0                    |15                  |NULL                    |NULL                   |NULL                   |NULL                  |NULL                    |NULL                   |NULL                  |NULL                 |NULL                  |NULL                 |\n",
      "|1497720957|NULL                 |NULL                |NULL                 |NULL                |NULL                  |NULL                 |0                    |26                  |NULL                    |NULL                   |17                     |1170                  |NULL                    |NULL                   |NULL                  |NULL                 |NULL                  |NULL                 |\n",
      "|1467413278|NULL                 |NULL                |NULL                 |NULL                |14                    |6000                 |0                    |24                  |NULL                    |NULL                   |25                     |1650                  |NULL                    |NULL                   |NULL                  |NULL                 |NULL                  |NULL                 |\n",
      "+----------+---------------------+--------------------+---------------------+--------------------+----------------------+---------------------+---------------------+--------------------+------------------------+-----------------------+-----------------------+----------------------+------------------------+-----------------------+----------------------+---------------------+----------------------+---------------------+\n",
      "only showing top 20 rows\n",
      "\n"
     ]
    }
   ],
   "source": [
    "final_mergedcms = mergedcms.withColumn(\"Tot_Benes\",mergedcms.Tot_Benes.cast(\"int\"))\n",
    "final_mergedcms = final_mergedcms.withColumn(\"Tot_Clms\",final_mergedcms.Tot_Clms.cast(\"int\"))\n",
    "\n",
    "final_mergedcms=final_mergedcms.groupBy(\"NPI\").pivot(\"Drug_Name\").sum('Tot_Benes','Tot_Clms')\n",
    "final_mergedcms.show(truncate=False)"
   ]
  },
  {
   "cell_type": "code",
   "execution_count": 60,
   "metadata": {},
   "outputs": [
    {
     "name": "stdout",
     "output_type": "stream",
     "text": [
      "Shape of Dataset : (3553, 19)\n"
     ]
    }
   ],
   "source": [
    "print(\"Shape of Dataset :\",(final_mergedcms.count(),len(final_mergedcms.columns)))"
   ]
  },
  {
   "cell_type": "markdown",
   "metadata": {},
   "source": [
    "Count of Distinct NPI's\n",
    "---"
   ]
  },
  {
   "cell_type": "code",
   "execution_count": 61,
   "metadata": {},
   "outputs": [
    {
     "data": {
      "text/plain": [
       "3553"
      ]
     },
     "execution_count": 61,
     "metadata": {},
     "output_type": "execute_result"
    }
   ],
   "source": [
    "final_mergedcms.select('NPI').distinct().count()"
   ]
  },
  {
   "cell_type": "markdown",
   "metadata": {},
   "source": [
    "Filling the Null values with 0\n",
    "---"
   ]
  },
  {
   "cell_type": "code",
   "execution_count": 62,
   "metadata": {},
   "outputs": [
    {
     "name": "stdout",
     "output_type": "stream",
     "text": [
      "+----------+---------------------+--------------------+---------------------+--------------------+----------------------+---------------------+---------------------+--------------------+------------------------+-----------------------+-----------------------+----------------------+------------------------+-----------------------+----------------------+---------------------+----------------------+---------------------+\n",
      "|       NPI|AVSOLA_sum(Tot_Benes)|AVSOLA_sum(Tot_Clms)|CIMZIA_sum(Tot_Benes)|CIMZIA_sum(Tot_Clms)|ENTYVIO_sum(Tot_Benes)|ENTYVIO_sum(Tot_Clms)|HUMIRA_sum(Tot_Benes)|HUMIRA_sum(Tot_Clms)|INFLECTRA_sum(Tot_Benes)|INFLECTRA_sum(Tot_Clms)|REMICADE_sum(Tot_Benes)|REMICADE_sum(Tot_Clms)|RENFLEXIS_sum(Tot_Benes)|RENFLEXIS_sum(Tot_Clms)|SIMPONI_sum(Tot_Benes)|SIMPONI_sum(Tot_Clms)|STELARA_sum(Tot_Benes)|STELARA_sum(Tot_Clms)|\n",
      "+----------+---------------------+--------------------+---------------------+--------------------+----------------------+---------------------+---------------------+--------------------+------------------------+-----------------------+-----------------------+----------------------+------------------------+-----------------------+----------------------+---------------------+----------------------+---------------------+\n",
      "|1093966897|                    0|                   0|                    0|                   0|                     0|                    0|                    0|                  34|                       0|                      0|                      0|                     0|                       0|                      0|                     0|                    0|                     0|                    0|\n",
      "|1518923838|                    0|                   0|                    0|                   0|                     0|                    0|                    0|                  23|                       0|                      0|                      0|                     0|                       0|                      0|                     0|                    0|                     0|                    0|\n",
      "|1508894262|                    0|                   0|                    0|                   0|                     0|                    0|                    0|                  27|                       0|                      0|                      0|                     0|                       0|                      0|                     0|                    0|                     0|                    0|\n",
      "|1427213461|                    0|                   0|                    0|                   0|                     0|                    0|                    0|                  22|                       0|                      0|                      0|                     0|                       0|                      0|                     0|                    0|                     0|                   27|\n",
      "|1821070376|                    0|                   0|                    0|                   0|                     0|                    0|                    0|                  26|                       0|                      0|                      0|                     0|                       0|                      0|                     0|                    0|                     0|                    0|\n",
      "|1174518344|                    0|                   0|                    0|                  11|                     0|                    0|                    0|                   0|                       0|                      0|                      0|                     0|                       0|                      0|                     0|                    0|                     0|                    0|\n",
      "|1235161779|                    0|                   0|                    0|                   0|                     0|                    0|                    0|                  15|                       0|                      0|                      0|                     0|                       0|                      0|                     0|                    0|                     0|                    0|\n",
      "|1700073251|                    0|                   0|                    0|                   0|                     0|                    0|                    0|                  22|                       0|                      0|                      0|                     0|                       0|                      0|                     0|                    0|                     0|                    0|\n",
      "|1225059116|                    0|                   0|                    0|                   0|                     0|                    0|                    0|                  33|                       0|                      0|                      0|                     0|                       0|                      0|                     0|                    0|                     0|                   21|\n",
      "|1982628806|                    0|                   0|                    0|                   0|                     0|                    0|                    0|                  20|                       0|                      0|                      0|                     0|                       0|                      0|                     0|                    0|                     0|                    0|\n",
      "|1194764753|                    0|                   0|                    0|                   0|                     0|                    0|                    0|                  23|                       0|                      0|                      0|                     0|                       0|                      0|                     0|                    0|                     0|                    0|\n",
      "|1700958543|                    0|                   0|                    0|                   0|                     0|                    0|                    0|                  50|                       0|                      0|                      0|                     0|                       0|                      0|                     0|                    0|                     0|                    0|\n",
      "|1346402732|                    0|                   0|                    0|                   0|                     0|                    0|                    0|                  14|                       0|                      0|                      0|                     0|                       0|                      0|                     0|                    0|                     0|                    0|\n",
      "|1821103573|                    0|                   0|                    0|                   0|                     0|                    0|                    0|                  11|                       0|                      0|                      0|                     0|                       0|                      0|                     0|                    0|                     0|                    0|\n",
      "|1932270832|                    0|                   0|                    0|                   0|                     0|                    0|                    0|                  13|                       0|                      0|                      0|                     0|                       0|                      0|                     0|                    0|                     0|                    0|\n",
      "|1548255953|                    0|                   0|                    0|                   0|                     0|                    0|                    0|                  13|                       0|                      0|                      0|                     0|                       0|                      0|                     0|                    0|                     0|                    0|\n",
      "|1194806489|                    0|                   0|                    0|                   0|                     0|                    0|                    0|                  12|                       0|                      0|                      0|                     0|                       0|                      0|                     0|                    0|                     0|                    0|\n",
      "|1720283625|                    0|                   0|                    0|                   0|                     0|                    0|                    0|                  15|                       0|                      0|                      0|                     0|                       0|                      0|                     0|                    0|                     0|                    0|\n",
      "|1497720957|                    0|                   0|                    0|                   0|                     0|                    0|                    0|                  26|                       0|                      0|                     17|                  1170|                       0|                      0|                     0|                    0|                     0|                    0|\n",
      "|1467413278|                    0|                   0|                    0|                   0|                    14|                 6000|                    0|                  24|                       0|                      0|                     25|                  1650|                       0|                      0|                     0|                    0|                     0|                    0|\n",
      "+----------+---------------------+--------------------+---------------------+--------------------+----------------------+---------------------+---------------------+--------------------+------------------------+-----------------------+-----------------------+----------------------+------------------------+-----------------------+----------------------+---------------------+----------------------+---------------------+\n",
      "only showing top 20 rows\n",
      "\n"
     ]
    }
   ],
   "source": [
    "final_mergedcms=final_mergedcms.fillna(value=0)\n",
    "final_mergedcms.show()"
   ]
  },
  {
   "cell_type": "markdown",
   "metadata": {},
   "source": [
    "Exporting Data\n",
    "---"
   ]
  },
  {
   "cell_type": "code",
   "execution_count": 63,
   "metadata": {},
   "outputs": [],
   "source": [
    "pcms=final_mergedcms.toPandas()\n",
    "pcms.to_csv('output/Merged_CMS_B&D.csv',index=False)"
   ]
  },
  {
   "cell_type": "code",
   "execution_count": 43,
   "metadata": {},
   "outputs": [
    {
     "name": "stdout",
     "output_type": "stream",
     "text": [
      "+----------+---------------------+--------------------+---------------------+--------------------+----------------------+---------------------+---------------------+--------------------+------------------------+-----------------------+-----------------------+----------------------+------------------------+-----------------------+----------------------+---------------------+----------------------+---------------------+----------------------+---------------------+----------------------+---------------------+\n",
      "|       NPI|AVSOLA_sum(Tot_Benes)|AVSOLA_sum(Tot_Clms)|CIMZIA_sum(Tot_Benes)|CIMZIA_sum(Tot_Clms)|ENTYVIO_sum(Tot_Benes)|ENTYVIO_sum(Tot_Clms)|HUMIRA_sum(Tot_Benes)|HUMIRA_sum(Tot_Clms)|INFLECTRA_sum(Tot_Benes)|INFLECTRA_sum(Tot_Clms)|REMICADE_sum(Tot_Benes)|REMICADE_sum(Tot_Clms)|RENFLEXIS_sum(Tot_Benes)|RENFLEXIS_sum(Tot_Clms)|SIMPONI_sum(Tot_Benes)|SIMPONI_sum(Tot_Clms)|SKYRIZI_sum(Tot_Benes)|SKYRIZI_sum(Tot_Clms)|STELARA_sum(Tot_Benes)|STELARA_sum(Tot_Clms)|ZEPOSIA_sum(Tot_Benes)|ZEPOSIA_sum(Tot_Clms)|\n",
      "+----------+---------------------+--------------------+---------------------+--------------------+----------------------+---------------------+---------------------+--------------------+------------------------+-----------------------+-----------------------+----------------------+------------------------+-----------------------+----------------------+---------------------+----------------------+---------------------+----------------------+---------------------+----------------------+---------------------+\n",
      "|1013194414|                    0|                   0|                    0|                   0|                    31|                12000|                    0|                  21|                       0|                      0|                     31|                  3000|                       0|                      0|                     0|                    0|                     0|                    0|                     0|                    0|                     0|                    0|\n",
      "+----------+---------------------+--------------------+---------------------+--------------------+----------------------+---------------------+---------------------+--------------------+------------------------+-----------------------+-----------------------+----------------------+------------------------+-----------------------+----------------------+---------------------+----------------------+---------------------+----------------------+---------------------+----------------------+---------------------+\n",
      "\n"
     ]
    }
   ],
   "source": [
    "final_mergedcms.filter(col('NPI').rlike('1013194414')).show()"
   ]
  }
 ],
 "metadata": {
  "kernelspec": {
   "display_name": "roche_1",
   "language": "python",
   "name": "python3"
  },
  "language_info": {
   "codemirror_mode": {
    "name": "ipython",
    "version": 3
   },
   "file_extension": ".py",
   "mimetype": "text/x-python",
   "name": "python",
   "nbconvert_exporter": "python",
   "pygments_lexer": "ipython3",
   "version": "3.9.13"
  }
 },
 "nbformat": 4,
 "nbformat_minor": 2
}
